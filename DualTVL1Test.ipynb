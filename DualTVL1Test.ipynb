{
 "cells": [
  {
   "cell_type": "markdown",
   "id": "57fa7e9e-db55-4367-8d8b-62d59fbb3db1",
   "metadata": {
    "execution": {
     "iopub.execute_input": "2024-04-13T09:27:43.131933Z",
     "iopub.status.busy": "2024-04-13T09:27:43.130905Z",
     "iopub.status.idle": "2024-04-13T09:27:43.148892Z",
     "shell.execute_reply": "2024-04-13T09:27:43.146889Z",
     "shell.execute_reply.started": "2024-04-13T09:27:43.131933Z"
    }
   },
   "source": [
    "# TVL1 optical flow"
   ]
  },
  {
   "cell_type": "markdown",
   "id": "f38dbd65-522e-48b0-9812-28f293778381",
   "metadata": {},
   "source": [
    "Paper: https://www-pequan.lip6.fr/~bereziat/cours/master/vision/papers/zach07.pdf"
   ]
  },
  {
   "cell_type": "code",
   "execution_count": 1,
   "id": "578f8d7a-f73f-44e1-b673-0ea4a7e17633",
   "metadata": {
    "execution": {
     "iopub.execute_input": "2024-04-25T08:01:10.189034Z",
     "iopub.status.busy": "2024-04-25T08:01:10.188033Z",
     "iopub.status.idle": "2024-04-25T08:02:45.560467Z",
     "shell.execute_reply": "2024-04-25T08:02:45.558458Z",
     "shell.execute_reply.started": "2024-04-25T08:01:10.189034Z"
    }
   },
   "outputs": [],
   "source": [
    "from sklearn.model_selection import train_test_split\n",
    "from break_loop import BreakLoopException\n",
    "import numpy as np\n",
    "import constants as const\n",
    "import pandas as pd\n",
    "from pathlib import Path\n",
    "from sklearn.model_selection import ParameterSampler\n",
    "import progressbar as pb\n",
    "from timeit import default_timer\n",
    "import cv2\n",
    "import csv\n",
    "import logging\n",
    "import utils\n",
    "import utils_flow as ut_fl"
   ]
  },
  {
   "cell_type": "code",
   "execution_count": 2,
   "id": "fa114656-0be0-4c7f-8b1e-d4f19a7c8592",
   "metadata": {
    "execution": {
     "iopub.execute_input": "2024-04-25T08:02:45.563467Z",
     "iopub.status.busy": "2024-04-25T08:02:45.562467Z",
     "iopub.status.idle": "2024-04-25T08:02:45.575961Z",
     "shell.execute_reply": "2024-04-25T08:02:45.573982Z",
     "shell.execute_reply.started": "2024-04-25T08:02:45.563467Z"
    }
   },
   "outputs": [],
   "source": [
    "IMG_HEIGHT = IMG_WIDTH = 64\n",
    "MAX_WIDTH = const.MAX_WIDTH\n",
    "MAX_HEIGHT = const.MAX_HEIGHT\n",
    "VIDEO_FORMAT_CODECS = const.VIDEO_FORMAT_CODECS"
   ]
  },
  {
   "cell_type": "code",
   "execution_count": 3,
   "id": "36a18e4e-5d90-45f3-a44d-9ed983cd733a",
   "metadata": {
    "execution": {
     "iopub.execute_input": "2024-04-25T08:02:45.578957Z",
     "iopub.status.busy": "2024-04-25T08:02:45.576956Z",
     "iopub.status.idle": "2024-04-25T08:02:45.748586Z",
     "shell.execute_reply": "2024-04-25T08:02:45.747585Z",
     "shell.execute_reply.started": "2024-04-25T08:02:45.578957Z"
    }
   },
   "outputs": [],
   "source": [
    "log_file = Path(const.logs_path, 'DualTVL1.log')\n",
    "logging.basicConfig(\n",
    "    format='%(asctime)s %(message)s',\n",
    "    filemode='a',\n",
    "    filename=log_file,\n",
    "    encoding='utf-8',\n",
    "    level=logging.INFO,\n",
    "    force=True\n",
    ")"
   ]
  },
  {
   "cell_type": "code",
   "execution_count": 4,
   "id": "d6608633-ede7-4481-bf37-af83aa5661a7",
   "metadata": {
    "execution": {
     "iopub.execute_input": "2024-04-25T08:02:45.754585Z",
     "iopub.status.busy": "2024-04-25T08:02:45.753586Z",
     "iopub.status.idle": "2024-04-25T08:02:45.875910Z",
     "shell.execute_reply": "2024-04-25T08:02:45.873992Z",
     "shell.execute_reply.started": "2024-04-25T08:02:45.754585Z"
    }
   },
   "outputs": [],
   "source": [
    "logging.info('Generating Directories Structure')"
   ]
  },
  {
   "cell_type": "code",
   "execution_count": 5,
   "id": "853f8bdf-6031-4bb4-b335-9f4ecc34739d",
   "metadata": {
    "execution": {
     "iopub.execute_input": "2024-04-25T08:02:45.877919Z",
     "iopub.status.busy": "2024-04-25T08:02:45.877919Z",
     "iopub.status.idle": "2024-04-25T08:02:46.365071Z",
     "shell.execute_reply": "2024-04-25T08:02:46.363158Z",
     "shell.execute_reply.started": "2024-04-25T08:02:45.877919Z"
    }
   },
   "outputs": [],
   "source": [
    "df = pd.read_csv(Path(const.csv_path, 'dataset.csv'))"
   ]
  },
  {
   "cell_type": "code",
   "execution_count": 6,
   "id": "0692e909-8736-465b-80eb-0f4265d00e1f",
   "metadata": {
    "execution": {
     "iopub.execute_input": "2024-04-25T08:02:46.368073Z",
     "iopub.status.busy": "2024-04-25T08:02:46.367077Z",
     "iopub.status.idle": "2024-04-25T08:02:46.394320Z",
     "shell.execute_reply": "2024-04-25T08:02:46.393315Z",
     "shell.execute_reply.started": "2024-04-25T08:02:46.367077Z"
    }
   },
   "outputs": [
    {
     "name": "stdout",
     "output_type": "stream",
     "text": [
      "Length of sample array is 1440 element,\n",
      "100.0% of 1440\n"
     ]
    }
   ],
   "source": [
    "# Sample the database\n",
    "\n",
    "sample_fraction = 1\n",
    "\n",
    "if (sample_fraction < 1):\n",
    "    df_sampled, df_remaining = train_test_split(df,\n",
    "                                                train_size=sample_fraction,\n",
    "                                                random_state=42,\n",
    "                                                stratify=df.emotion)\n",
    "else:\n",
    "    df_sampled = df\n",
    "\n",
    "print(f'''Length of sample array is {len(df_sampled)} element,\n",
    "{sample_fraction:.1%} of {len(df)}''')"
   ]
  },
  {
   "cell_type": "markdown",
   "id": "8bd345dc-6bc9-41ff-a57b-b20d0f992ca6",
   "metadata": {},
   "source": [
    "## Find optimal parameters"
   ]
  },
  {
   "cell_type": "code",
   "execution_count": 7,
   "id": "b64be0e0-fd05-4955-b2f4-d2b9072b6577",
   "metadata": {
    "execution": {
     "iopub.execute_input": "2024-04-25T08:02:46.400319Z",
     "iopub.status.busy": "2024-04-25T08:02:46.398318Z",
     "iopub.status.idle": "2024-04-25T08:02:46.521396Z",
     "shell.execute_reply": "2024-04-25T08:02:46.520401Z",
     "shell.execute_reply.started": "2024-04-25T08:02:46.400319Z"
    }
   },
   "outputs": [],
   "source": [
    "def pol2cart(rho, phi):\n",
    "    # Convert polar coordinates to cartesian coordinates for computation of optical strain\n",
    "    x = rho * np.cos(phi)\n",
    "    y = rho * np.sin(phi)\n",
    "    return (x, y)\n",
    "\n",
    "\n",
    "def computeStrain(u, v):\n",
    "    # Compute os , setting t=1 to maximize the sensitivity of ME\n",
    "    u_x = u - pd.DataFrame(u).shift(1, axis=1)\n",
    "    v_y = v - pd.DataFrame(v).shift(1, axis=0)\n",
    "    u_y = u - pd.DataFrame(u).shift(1, axis=0)\n",
    "    v_x = v - pd.DataFrame(v).shift(1, axis=1)\n",
    "    os = np.array(\n",
    "        np.sqrt(\n",
    "            (u_x**2).fillna(0) +\n",
    "            (v_y**2).fillna(0) +\n",
    "            1/2 * (u_y.fillna(0) + v_x.fillna(0)) ** 2\n",
    "        )\n",
    "    )\n",
    "    return os"
   ]
  },
  {
   "cell_type": "code",
   "execution_count": 8,
   "id": "27b369f3-29eb-446d-9ad4-c6ca4928cd14",
   "metadata": {
    "execution": {
     "iopub.execute_input": "2024-04-25T08:02:46.525398Z",
     "iopub.status.busy": "2024-04-25T08:02:46.524401Z",
     "iopub.status.idle": "2024-04-25T08:02:46.680924Z",
     "shell.execute_reply": "2024-04-25T08:02:46.679927Z",
     "shell.execute_reply.started": "2024-04-25T08:02:46.525398Z"
    }
   },
   "outputs": [],
   "source": [
    "TVL1_parameters = {\n",
    "    'warps': 2,\n",
    "    'useInitialFlow': False,\n",
    "    'theta': 0.3,\n",
    "    'tau': 0.25,\n",
    "    'scaleStep': 0.8,\n",
    "    'outerIterations': 3,\n",
    "    'nscales': 3,\n",
    "    'medianFiltering': 5,\n",
    "    'lambda_': 0.15,\n",
    "    'innerIterations': 3,\n",
    "    'gamma': 0.0,\n",
    "    'epsilon': 0.01\n",
    "}"
   ]
  },
  {
   "cell_type": "code",
   "execution_count": 54,
   "id": "439aa54f-ef16-4ac9-abe9-077c255a0eb1",
   "metadata": {
    "execution": {
     "iopub.execute_input": "2024-04-13T10:01:10.737556Z",
     "iopub.status.busy": "2024-04-13T10:01:10.736556Z",
     "iopub.status.idle": "2024-04-13T10:01:10.789554Z",
     "shell.execute_reply": "2024-04-13T10:01:10.787559Z",
     "shell.execute_reply.started": "2024-04-13T10:01:10.737556Z"
    }
   },
   "outputs": [],
   "source": [
    "# Function for finding optimal param\n",
    "def save_DualTVL1_frames(row, save_path, parameters):\n",
    "    # TODO: fix video generation\n",
    "    (warps, useInitialFlow, theta, tau, scaleStep,\n",
    "     outerIterations, nscales, medianFiltering,\n",
    "     lambda_, innerIterations, gamma, epsilon) = parameters.values()\n",
    "\n",
    "    optical_flow = cv2.optflow.DualTVL1OpticalFlow_create(\n",
    "            tau, lambda_, theta, nscales, warps,\n",
    "            epsilon, innerIterations,\n",
    "            outerIterations, scaleStep,\n",
    "            gamma, medianFiltering, useInitialFlow\n",
    "        )\n",
    "\n",
    "    timer_start = default_timer()\n",
    "\n",
    "    low_idx = np.rint(30 * (2 / 3))  # where 30=FPS\n",
    "\n",
    "\n",
    "    # Extract video name\n",
    "    path = row.path\n",
    "    filename = row.filename\n",
    "\n",
    "\n",
    "    full_path = Path(path, filename)\n",
    "    video_name = utils.remove_extension(filename)\n",
    "\n",
    "    # save_path = const.test_flows_path if (test) else const.flows_path\n",
    "\n",
    "    folder_path = Path(save_path)\n",
    "    # creates the target folder if needed (parents = True)\n",
    "    folder_path.mkdir(parents=True, exist_ok=True)\n",
    "\n",
    "\n",
    "    # Find CSV file based on video name\n",
    "\n",
    "    csv_regex = f'{video_name}.csv'\n",
    "    path_gen = Path(const.updated_landmarks_path).glob(csv_regex)\n",
    "\n",
    "    ret_list = list(path_gen)\n",
    "\n",
    "    try:\n",
    "        video_csv = ret_list.pop(0)\n",
    "    except IndexError:\n",
    "        print(f'ERROR: video {full_path}: no csv file found ({csv_regex})')\n",
    "        return\n",
    "\n",
    "    data = pd.read_csv(video_csv)\n",
    "\n",
    "    fourcc_mp4 = cv2.VideoWriter_fourcc(*VIDEO_FORMAT_CODECS['avi'])\n",
    "    out_path = str(Path(save_path, 'video.mp4'))\n",
    "    out_mp4 = cv2.VideoWriter(\n",
    "        out_path, fourcc_mp4, 30, (MAX_WIDTH, MAX_HEIGHT), False\n",
    "    )\n",
    "\n",
    "    vidcap = cv2.VideoCapture(str(full_path))  # open video\n",
    "\n",
    "    frames = utils.get_video_frames(vidcap)\n",
    "\n",
    "    p2.set_elements(frames)\n",
    "\n",
    "    fps = utils.get_video_fps(vidcap)\n",
    "\n",
    "    high_idx = frames - low_idx\n",
    "\n",
    "    is_good_flow = ''\n",
    "    skip = False\n",
    "    show = True\n",
    "    ret, frame1 = vidcap.read()\n",
    "\n",
    "    ra = utils.calc_bounding_box(data, 1)\n",
    "\n",
    "    x, y, width, height = ra['box']\n",
    "\n",
    "    face = frame1[y:y + height, x:x + width, :]\n",
    "\n",
    "    face = cv2.resize(face, dsize=(MAX_WIDTH, MAX_HEIGHT))\n",
    "\n",
    "    prvs = cv2.cvtColor(face, cv2.COLOR_BGR2GRAY)\n",
    "\n",
    "    vidcap.set(cv2.CAP_PROP_POS_FRAMES, 1)\n",
    "\n",
    "    for frame_number in range(1, frames):\n",
    "\n",
    "        success, image = vidcap.read()\n",
    "\n",
    "        speaking_frame = frame_number >= low_idx and frame_number <= high_idx\n",
    "\n",
    "        flow_string = f'{video_name}-{frame_number:03d}'\n",
    "        speaking_string = '01' if speaking_frame else '00'\n",
    "\n",
    "        save_string = f'{flow_string}-{speaking_string}.jpg'\n",
    "        ra = utils.calc_bounding_box(data, frame_number)\n",
    "\n",
    "        x, y, width, height = ra['box']\n",
    "\n",
    "        face = image[y:y + height, x:x + width, :]\n",
    "\n",
    "        face = cv2.resize(face, dsize=(MAX_WIDTH, MAX_HEIGHT))\n",
    "\n",
    "        next = cv2.cvtColor(face, cv2.COLOR_BGR2GRAY)\n",
    "\n",
    "\n",
    "        flow = optical_flow.calc(prvs, next, None)\n",
    "        mag, ang = cv2.cartToPolar(flow[..., 0], flow[..., 1])\n",
    "        u, v = pol2cart(mag, ang)\n",
    "        os = computeStrain(u, v)\n",
    "\n",
    "        final = np.zeros((next.shape[0], next.shape[1], 3)).astype(np.float32)\n",
    "        final[..., 0] = u\n",
    "        final[..., 1] = v\n",
    "        final[..., 2] = os\n",
    "\n",
    "        for channel in range(3):\n",
    "            final[..., channel] = cv2.normalize(\n",
    "                final[..., channel], None, alpha=0, beta=255,\n",
    "                norm_type=cv2.NORM_MINMAX\n",
    "            )\n",
    "\n",
    "        gr1 = cv2.cvtColor(final, cv2.COLOR_BGR2GRAY) \n",
    "\n",
    "        if show is True:\n",
    "            cv2.imshow('Flow', final / 255)\n",
    "            cv2.imshow('Gray', gr1 / 255)\n",
    "            # cv2.imshow('u', u)\n",
    "            # cv2.imshow('v', v)\n",
    "            # cv2.imshow('os', os)\n",
    "            key = cv2.waitKey(int(1000/fps))\n",
    "            match key:\n",
    "                case 27:  # ESC\n",
    "                    is_good_flow = str(0)\n",
    "                    skip = True\n",
    "                    break\n",
    "                case 98:  # letter 'b'\n",
    "                    is_good_flow = str(0)\n",
    "                case 104:  # letter 'h' - hide screen\n",
    "                    show = False\n",
    "                    cv2.destroyAllWindows()\n",
    "                case 111:  # letter 'o'\n",
    "                    is_good_flow = str(1)\n",
    "                case 113:  # q\n",
    "                    vidcap.release()\n",
    "                    # out_mp4.release()\n",
    "                    # out_mp4 = None\n",
    "                    cv2.destroyAllWindows()\n",
    "                    raise BreakLoopException(\n",
    "                        f'BLE at video {video_name}: frame {frame_number}'\n",
    "                    )\n",
    "\n",
    "        out_mp4.write(final / 255)\n",
    "        cv2.imwrite(str(Path(folder_path, save_string)), final)\n",
    "\n",
    "\n",
    "        p2.update_progress(frame_number)\n",
    "\n",
    "    vidcap.release()\n",
    "    out_mp4.release()\n",
    "    out_mp4 = None\n",
    "\n",
    "\n",
    "    if is_good_flow == '':\n",
    "        key = cv2.waitKey(7000)  # Wait 7 s for an input\n",
    "        match key:\n",
    "            case 98:  # letter 'b'\n",
    "                is_good_flow = str(0)\n",
    "            case 111:  # letter 'o'\n",
    "                is_good_flow = str(1)\n",
    "            case _:\n",
    "                is_good_flow = '-'\n",
    "\n",
    "    cv2.destroyAllWindows()\n",
    "\n",
    "    timer_end = default_timer() - timer_start\n",
    "\n",
    "    csv_path = Path(save_path.parent.parent, 'runs.csv')\n",
    "    with open(csv_path, 'a+', newline='') as res_file:\n",
    "        filewriter = csv.writer(res_file, delimiter=',',\n",
    "                                quoting=csv.QUOTE_MINIMAL)\n",
    "\n",
    "        values_list = [value for value in params.values()]\n",
    "        values_list.insert(0, save_path.parent.name)\n",
    "        values_list.insert(1, video_name)\n",
    "        values_list.append(timer_end)\n",
    "        values_list.append('skip' if skip else '')\n",
    "        values_list.append(is_good_flow)\n",
    "        filewriter.writerow(\n",
    "            values_list\n",
    "        )\n",
    "\n",
    "    p2.update_progress(frames)"
   ]
  },
  {
   "cell_type": "code",
   "execution_count": 55,
   "id": "06b38749-b999-4d74-af2e-3d4538fb41df",
   "metadata": {
    "execution": {
     "iopub.execute_input": "2024-04-13T10:02:14.655392Z",
     "iopub.status.busy": "2024-04-13T10:02:14.654435Z",
     "iopub.status.idle": "2024-04-13T10:02:24.506311Z",
     "shell.execute_reply": "2024-04-13T10:02:24.504313Z",
     "shell.execute_reply.started": "2024-04-13T10:02:14.655392Z"
    }
   },
   "outputs": [
    {
     "data": {
      "text/plain": [
       "'Progress: [####################] 100%             1/1'"
      ]
     },
     "metadata": {},
     "output_type": "display_data"
    },
    {
     "data": {
      "text/plain": [
       "'Progress: [####################] 100%             1/1'"
      ]
     },
     "metadata": {},
     "output_type": "display_data"
    },
    {
     "data": {
      "text/plain": [
       "'Progress: [######--------------] 30%             38/123'"
      ]
     },
     "metadata": {},
     "output_type": "display_data"
    },
    {
     "name": "stdout",
     "output_type": "stream",
     "text": [
      "{'warps': 2, 'useInitialFlow': False, 'theta': 0.3, 'tau': 0.25, 'scaleStep': 0.8, 'outerIterations': 3, 'nscales': 3, 'medianFiltering': 5, 'lambda_': 0.15, 'innerIterations': 3, 'gamma': 0.0, 'epsilon': 0.01}\n",
      "BLE at video 01-01-07-02-01-01-03: frame 39\n"
     ]
    }
   ],
   "source": [
    "# # default\n",
    "param_grid = {\n",
    "    'warps': [5],\n",
    "    'useInitialFlow': [False],\n",
    "    'theta': [0.3],\n",
    "    'tau': [0.25],\n",
    "    'scaleStep': [0.8],\n",
    "    'outerIterations': [10],\n",
    "    'nscales': [5],\n",
    "    'medianFiltering': [5],\n",
    "    'lambda_': [0.15],\n",
    "    'innnerIterations': [30],\n",
    "    'gamma': [0.0],\n",
    "    'epsilon': [0.01]\n",
    "}\n",
    "\n",
    "param_grid = {\n",
    "    'warps': [2],\n",
    "    'useInitialFlow': [False],\n",
    "    'theta': [0.3],\n",
    "    'tau': [0.25],\n",
    "    'scaleStep': [0.8],\n",
    "    'outerIterations': [3],\n",
    "    'nscales': [3],\n",
    "    'medianFiltering': [5],\n",
    "    'lambda_': [0.15],\n",
    "    'innerIterations': [3],\n",
    "    'gamma': [0.0],\n",
    "    'epsilon': [0.01]\n",
    "}\n",
    "\n",
    "par_space = np.prod([len(x) for x in param_grid.values()])\n",
    "# Create runs file in folder if it does not exists\n",
    "runs_file = Path('FlowGridSearch/runs.csv')\n",
    "\n",
    "if not runs_file.is_file():\n",
    "    with open(runs_file, 'w', newline='') as res_file:\n",
    "        filewriter = csv.writer(res_file, delimiter=',',\n",
    "                                quoting=csv.QUOTE_MINIMAL)\n",
    "        keys_list = [value for value in param_grid.keys()]\n",
    "        keys_list.insert(0, 'Folder')\n",
    "        keys_list.insert(1, 'Name')\n",
    "        keys_list.append('Time')\n",
    "        keys_list.append('Note')\n",
    "        keys_list.append('Good')\n",
    "        filewriter.writerow(keys_list)\n",
    "\n",
    "iterations = 30\n",
    "iterations = min(iterations, par_space)\n",
    "\n",
    "\n",
    "sampler = ParameterSampler(param_grid, iterations, random_state=42)\n",
    "\n",
    "elem_to_take = 1\n",
    "\n",
    "# Create a random copy of the database and take the first x elements\n",
    "df_random = df.copy().sample(frac=1, random_state=42).reset_index(drop=True)\n",
    "\n",
    "run = 99\n",
    "\n",
    "p0 = pb.Progressbar(id='p0', elements=elem_to_take)\n",
    "p1 = pb.Progressbar(id='p1', elements=iterations)\n",
    "p2 = pb.Progressbar(id='p2', elements=100)\n",
    "\n",
    "try:\n",
    "    for params in sampler:\n",
    "        run += 1\n",
    "        print(params)\n",
    "        p1.add_to_progress(1)\n",
    "        for index, row in df_random.iloc[:elem_to_take].iterrows():\n",
    "            p0.add_to_progress(1)\n",
    "            filename = Path(row.filename).stem\n",
    "            out_path = Path('FlowGridSearch', f'Run_{run}', filename)\n",
    "            # flow_calc(False, row, out_path, params\n",
    "            save_DualTVL1_frames(row, out_path, params)\n",
    "            # save_OF_frames(row, out_path, params)\n",
    "            # save_OF_frames_pyflow(row, out_path, params)\n",
    "except BreakLoopException as BLE:\n",
    "    details = BLE.args[0]\n",
    "    print(details)"
   ]
  },
  {
   "cell_type": "markdown",
   "id": "dc25214a-5345-4ff2-a9c8-08f94637463b",
   "metadata": {},
   "source": [
    "## Save Optical flow"
   ]
  },
  {
   "cell_type": "code",
   "execution_count": 13,
   "id": "5517f50b-e504-458d-ba84-39d941329b5b",
   "metadata": {
    "execution": {
     "iopub.execute_input": "2024-04-24T07:53:35.676356Z",
     "iopub.status.busy": "2024-04-24T07:53:35.676356Z",
     "iopub.status.idle": "2024-04-24T07:53:35.699011Z",
     "shell.execute_reply": "2024-04-24T07:53:35.698008Z",
     "shell.execute_reply.started": "2024-04-24T07:53:35.676356Z"
    }
   },
   "outputs": [
    {
     "data": {
      "text/plain": [
       "140"
      ]
     },
     "execution_count": 13,
     "metadata": {},
     "output_type": "execute_result"
    }
   ],
   "source": [
    "len(df_sampled[1300:])"
   ]
  },
  {
   "cell_type": "code",
   "execution_count": 27,
   "id": "fef08321-cf52-4050-8144-f8210161b3a1",
   "metadata": {
    "execution": {
     "iopub.execute_input": "2024-04-25T09:35:58.645213Z",
     "iopub.status.busy": "2024-04-25T09:35:58.645213Z",
     "iopub.status.idle": "2024-04-25T09:35:58.707357Z",
     "shell.execute_reply": "2024-04-25T09:35:58.705370Z",
     "shell.execute_reply.started": "2024-04-25T09:35:58.645213Z"
    }
   },
   "outputs": [],
   "source": [
    "def save_optical_flow(save=True, save_folder=const.flows_path,\n",
    "                      parameters=TVL1_parameters, view=False):\n",
    "\n",
    "    total_elements = len(df_sampled)\n",
    "    # cycle_idx = 1\n",
    "\n",
    "    p1 = pb.Progressbar('p1', elements=total_elements)\n",
    "    p2 = pb.Progressbar('p2', 100)\n",
    "\n",
    "    low_idx = np.rint(30 * (2 / 3))  # where 30=FPS\n",
    "    logging.info(parameters)\n",
    "\n",
    "    for index, row in df_sampled.iterrows():\n",
    "\n",
    "        p1.add_to_progress(1)\n",
    "\n",
    "        # Extract video name\n",
    "        path = row.path\n",
    "        filename = row.filename\n",
    "\n",
    "        target_class = utils.get_class_string(filename)\n",
    "\n",
    "        full_path = Path(path, filename)\n",
    "\n",
    "        video_name = utils.remove_extension(filename)\n",
    "        logging.info(f'{video_name}, [{index}]')\n",
    "\n",
    "\n",
    "        folder_flow_path = Path(save_folder, 'TVL1', target_class)\n",
    "\n",
    "        if (save):\n",
    "            folder_flow_path.mkdir(parents=True, exist_ok=True)\n",
    "\n",
    "        # existing_files = [\n",
    "        #     filename for filename in folder_flow_path.glob(f'{video_name}*.jpg')\n",
    "        # ]\n",
    "\n",
    "        # if existing_files is not None:\n",
    "        #     # print('files exist', video_name)\n",
    "        #     continue\n",
    "        # print(full_path)\n",
    "        # Find CSV file for that video\n",
    "\n",
    "        csv_regex = f'{video_name}.csv'\n",
    "        path_gen = Path(const.updated_landmarks_path).glob(csv_regex)\n",
    "\n",
    "        ret_list = list(path_gen)\n",
    "\n",
    "        try:\n",
    "            video_csv = ret_list.pop(0)\n",
    "        except IndexError:\n",
    "            print(f'ERROR: Skipping video {full_path}: no ({csv_regex}) file')\n",
    "            continue\n",
    "\n",
    "        data = pd.read_csv(video_csv)\n",
    "        vidcap = cv2.VideoCapture(str(full_path))\n",
    "\n",
    "        frames = utils.get_video_frames(vidcap) - 1\n",
    "        p2.set_elements(frames)\n",
    "\n",
    "        high_idx = frames - low_idx\n",
    "\n",
    "        frame_number = 1\n",
    "\n",
    "        speaking_frame = frame_number >= low_idx and frame_number <= high_idx\n",
    "\n",
    "        flow_string = f'{video_name}-{frame_number:03d}'\n",
    "        speaking_string = '01' if speaking_frame else '00'\n",
    "\n",
    "        save_string = f'{flow_string}-{speaking_string}.jpg'\n",
    "\n",
    "        # frame_string = f'frame_{1:03d}.jpg'\n",
    "\n",
    "        ret, frame1 = vidcap.read()\n",
    "\n",
    "        ra = utils.calc_bounding_box(data, 1)\n",
    "\n",
    "        x, y, width, height = ra['box']\n",
    "\n",
    "        face = frame1[y:y + height, x:x + width, :]\n",
    "\n",
    "        face = cv2.resize(face, dsize=(MAX_WIDTH, MAX_HEIGHT))\n",
    "\n",
    "        prvs = cv2.cvtColor(face, cv2.COLOR_BGR2GRAY)\n",
    "        vidcap.set(cv2.CAP_PROP_POS_FRAMES, 1)\n",
    "        for frame_number in range(1, frames):\n",
    "\n",
    "            p2.add_to_progress(1)\n",
    "            ret, frame2 = vidcap.read()\n",
    "\n",
    "            if not ret:\n",
    "                if (frame_number < (frames - 1)):\n",
    "                    print(f'''No frames grabbed!\n",
    "                    video: {full_path}\n",
    "                    frame: {frame_number}''')\n",
    "                break\n",
    "            speaking_frame = frame_number >= low_idx and frame_number <= high_idx\n",
    "\n",
    "            flow_string = f'{video_name}-{frame_number:03d}'\n",
    "            speaking_string = '01' if speaking_frame else '00'\n",
    "\n",
    "            save_string = f'{flow_string}-{speaking_string}.jpg'\n",
    "            if Path(folder_flow_path, save_string).is_file():\n",
    "                continue\n",
    "\n",
    "            ra = utils.calc_bounding_box(data, frame_number)\n",
    "\n",
    "            x, y, width, height = ra['box']\n",
    "\n",
    "            face = frame2[y:y + height, x:x + width, :]\n",
    "\n",
    "            face = cv2.resize(face, dsize=(MAX_WIDTH, MAX_HEIGHT))\n",
    "\n",
    "            next = cv2.cvtColor(face, cv2.COLOR_BGR2GRAY)\n",
    "\n",
    "            gr1 = ut_fl.calc_flow_TVL1(prvs, next, parameters)\n",
    "\n",
    "            prvs = next\n",
    "\n",
    "            if (save):\n",
    "                gr1_res = cv2.resize(gr1, dsize=(IMG_HEIGHT, IMG_WIDTH))\n",
    "                cv2.imwrite(str(Path(folder_flow_path, save_string)), gr1_res)\n",
    "\n",
    "            if (view):\n",
    "                # cv2.imshow('Vector Flow', ut_fl.draw_flow(next, flow))\n",
    "                cv2.imshow('Video', face)\n",
    "                # cv2.imshow('BGR Flow', bgr)\n",
    "                cv2.imshow('GR1 BGRTOGRAY', gr1 / 255)\n",
    "                # cv2.imshow('GR2 SPLIT', gr2)\n",
    "\n",
    "                k = cv2.waitKey(30) & 0xff\n",
    "                if k == 27:\n",
    "                    break\n",
    "\n",
    "        vidcap.release()\n",
    "        cv2.destroyAllWindows()\n",
    "\n",
    "        p2.update_progress(frames)\n",
    "\n",
    "\n",
    "    p1.update_progress(total_elements)"
   ]
  },
  {
   "cell_type": "code",
   "execution_count": 28,
   "id": "6904e9f5-59eb-4f2f-857c-de3edf8956de",
   "metadata": {
    "execution": {
     "iopub.execute_input": "2024-04-25T09:35:59.369564Z",
     "iopub.status.busy": "2024-04-25T09:35:59.368561Z",
     "iopub.status.idle": "2024-04-25T17:00:12.478500Z",
     "shell.execute_reply": "2024-04-25T17:00:12.478500Z",
     "shell.execute_reply.started": "2024-04-25T09:35:59.369564Z"
    },
    "scrolled": true
   },
   "outputs": [
    {
     "data": {
      "text/plain": [
       "'Progress: [--------------------]'"
      ]
     },
     "metadata": {},
     "output_type": "display_data"
    },
    {
     "data": {
      "text/plain": [
       "'Progress: [####################] 100%             108/108'"
      ]
     },
     "metadata": {},
     "output_type": "display_data"
    }
   ],
   "source": [
    "# Flows generated on F556UV on 25/04/2024 in 7h 24m\n",
    "save_optical_flow(save=True, view=False)"
   ]
  },
  {
   "cell_type": "code",
   "execution_count": 11,
   "id": "1a120f1d-aba5-4a8c-bc02-1f0c77057e32",
   "metadata": {
    "execution": {
     "iopub.execute_input": "2024-04-25T08:14:30.166500Z",
     "iopub.status.busy": "2024-04-25T08:14:30.165503Z",
     "iopub.status.idle": "2024-04-25T08:14:30.187204Z",
     "shell.execute_reply": "2024-04-25T08:14:30.185488Z",
     "shell.execute_reply.started": "2024-04-25T08:14:30.166500Z"
    }
   },
   "outputs": [],
   "source": [
    "cv2.destroyAllWindows()"
   ]
  },
  {
   "cell_type": "code",
   "execution_count": 29,
   "id": "7fee9f36-1ff0-4424-8db0-5ab258617917",
   "metadata": {
    "execution": {
     "iopub.execute_input": "2024-04-25T17:55:38.570062Z",
     "iopub.status.busy": "2024-04-25T17:55:38.569109Z",
     "iopub.status.idle": "2024-04-25T17:55:38.863202Z",
     "shell.execute_reply": "2024-04-25T17:55:38.861923Z",
     "shell.execute_reply.started": "2024-04-25T17:55:38.570062Z"
    }
   },
   "outputs": [],
   "source": [
    "tvl1_path = Path(const.flows_path, 'TVL1')\n",
    "actors_labels = [f'{i:02d}' for i in range(1, 25)]\n",
    "emotions_folder = tvl1_path.glob('*')\n",
    "\n",
    "for folder_label in emotions_folder:\n",
    "    for actor in actors_labels:\n",
    "        new_path = Path(folder_label, actor)\n",
    "        # print(type(folder_label), type(actor), type(new_path))\n",
    "        new_path.mkdir()"
   ]
  },
  {
   "cell_type": "code",
   "execution_count": 33,
   "id": "079ea995-821f-4b26-8f90-e315add70fb2",
   "metadata": {
    "execution": {
     "iopub.execute_input": "2024-04-25T18:36:31.328432Z",
     "iopub.status.busy": "2024-04-25T18:36:31.328432Z",
     "iopub.status.idle": "2024-04-25T18:36:31.344035Z",
     "shell.execute_reply": "2024-04-25T18:36:31.344035Z",
     "shell.execute_reply.started": "2024-04-25T18:36:31.328432Z"
    }
   },
   "outputs": [],
   "source": [
    "label_names = const.EMOTIONS_LABELS_SORTED"
   ]
  },
  {
   "cell_type": "code",
   "execution_count": 34,
   "id": "3015d3a3-5d8e-4a05-beb9-49f7d48730c1",
   "metadata": {
    "execution": {
     "iopub.execute_input": "2024-04-25T18:36:34.176390Z",
     "iopub.status.busy": "2024-04-25T18:36:34.175418Z",
     "iopub.status.idle": "2024-04-25T18:36:34.197828Z",
     "shell.execute_reply": "2024-04-25T18:36:34.196433Z",
     "shell.execute_reply.started": "2024-04-25T18:36:34.176390Z"
    }
   },
   "outputs": [
    {
     "data": {
      "text/plain": [
       "'Progress: [--------------------]'"
      ]
     },
     "metadata": {},
     "output_type": "display_data"
    }
   ],
   "source": [
    "# Create empty folder for every emotion folder\n",
    "# Execution on ASUS: 2024-04-24\n",
    "p1 = pb.Progressbar(id='p1', elements=156822)\n",
    "logging.info('Generating Directories Structure')\n",
    "\n",
    "for label in label_names:\n",
    "    folder_path = Path(tvl1_path, label)\n",
    "\n",
    "    gen = folder_path.glob('*.jpg')\n",
    "    for img_path in gen:\n",
    "        # logging.info(f'Moving: {str(img_path)}')\n",
    "        actor = utils.get_actor(str(img_path))\n",
    "        new_path = Path(folder_path, actor, img_path.name)\n",
    "        Path(img_path).rename(new_path)\n",
    "        p1.add_to_progress(1)"
   ]
  }
 ],
 "metadata": {
  "kernelspec": {
   "display_name": "Python 3 (ipykernel)",
   "language": "python",
   "name": "python3"
  },
  "language_info": {
   "codemirror_mode": {
    "name": "ipython",
    "version": 3
   },
   "file_extension": ".py",
   "mimetype": "text/x-python",
   "name": "python",
   "nbconvert_exporter": "python",
   "pygments_lexer": "ipython3",
   "version": "3.10.10"
  }
 },
 "nbformat": 4,
 "nbformat_minor": 5
}
