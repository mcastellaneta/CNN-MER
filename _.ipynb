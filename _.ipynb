{
 "cells": [
  {
   "cell_type": "markdown",
   "id": "32836ce2-bb26-47ea-b689-fa42214fa880",
   "metadata": {
    "editable": true,
    "slideshow": {
     "slide_type": ""
    },
    "tags": []
   },
   "source": [
    "# DEFINITIONS"
   ]
  },
  {
   "cell_type": "markdown",
   "id": "e5997633-fd40-4d72-8ee2-32e72c531fee",
   "metadata": {},
   "source": [
    "#### TENSOR \n",
    "multi-dimensional arrays with a uniform type (called a dtype) , similar to np.arrays\n",
    "\n",
    "#### SAMPLE_RATE = 16000\n",
    "\n",
    "#### FRAME_LENGTH : int <= n_fft [scalar]\n",
    "Each frame of audio is windowed by window of length win_length and then padded with zeros to match n_fft. Padding is added on both the left- and the right-side of the window so that the window is centered within the frame.\n",
    "\n",
    "#### FRAME_STEP = HOP_SIZE: int > 0\n",
    "number of audio samples between adjacent STFT columns. How many frames we slide to the right when we take a new frame\n",
    "\n",
    "#### FFT_LENGTH : int > 0\n",
    "length of the windowed signal after padding with zeros. The number of rows in the STFT matrix D is (1 + n_fft/2)\n",
    "\n",
    "#### N_MELS = 64\n",
    "\n",
    "#### N_SPEC_BINS = 128"
   ]
  },
  {
   "cell_type": "markdown",
   "id": "59f6b79c-967b-4e7c-9cb4-f879e4000958",
   "metadata": {},
   "source": [
    "# SNIPPET"
   ]
  },
  {
   "cell_type": "raw",
   "id": "18c1b7ea-562f-47d3-b590-54aec4939a72",
   "metadata": {},
   "source": [
    "# From CMD\n",
    "\n",
    "# Exporting conda environment\n",
    "! conda env export > environment.yml --no-builds\n",
    "# Install with\n",
    "! conda env create --name envname --file=environments.yml\n",
    "\n",
    "# Exporting pip requirements\n",
    "! pip list --format=freeze > requirements.txt\n",
    "# Install with\n",
    "! pip install -r requirements.txt"
   ]
  },
  {
   "cell_type": "raw",
   "id": "6ba5c0b0-9634-4b32-9f34-836e7b2167ca",
   "metadata": {},
   "source": [
    "Ternary Condition: gender = 'female' if (int(actor)%2 == 0) else 'male'"
   ]
  },
  {
   "cell_type": "raw",
   "id": "7e786e96-d2d5-47be-9bb4-8eb29285f2ad",
   "metadata": {},
   "source": [
    "# Length of generator\n",
    "len(list(Generator))"
   ]
  },
  {
   "cell_type": "raw",
   "id": "26926cc0-653b-44f8-b871-249f0037bd5f",
   "metadata": {},
   "source": [
    "# Deep Copy\n",
    "import copy\n",
    "file_dict_1 = copy.deepcopy(file_dict)"
   ]
  },
  {
   "cell_type": "raw",
   "id": "6375ec9f-5a25-41a9-b7e1-6635fff277f2",
   "metadata": {},
   "source": [
    "# reassign index to start from index 0 \n",
    "# (useful to locate videos)\n",
    "df.reset_index(drop=True, inplace=True)"
   ]
  },
  {
   "cell_type": "raw",
   "id": "07cb92a1-fcd8-40a3-aee1-8fd5e922eb43",
   "metadata": {},
   "source": [
    "# Sleep\n",
    "from time import sleep\n",
    "sleep(s)"
   ]
  },
  {
   "cell_type": "raw",
   "id": "4f91bbc7-56e3-4456-ae8a-b0cfc0f0c013",
   "metadata": {},
   "source": [
    "# match - case\n",
    "match key:\n",
    "    case 97:\n",
    "        print('a')\n",
    "    case 98:\n",
    "        print('b')\n",
    "    case 99:\n",
    "        print('c')\n",
    "    case _:\n",
    "        print('not key')"
   ]
  },
  {
   "cell_type": "raw",
   "id": "bade9252-5f1b-4b20-ada5-2366a1dfabab",
   "metadata": {},
   "source": [
    "# Extension and codec for VideoWriter\n",
    "video_format_codec = {'mp4': 'avc1', 'avi': 'MJPG'}"
   ]
  },
  {
   "cell_type": "raw",
   "id": "12e3a321-b74c-4b4d-8053-49e67de629fa",
   "metadata": {},
   "source": [
    "# Random numbers sample without replacement\n",
    "from numpy.random import default_rng\n",
    "rng = default_rng()\n",
    "rng.choice(20, size=10, replace=False)"
   ]
  },
  {
   "cell_type": "raw",
   "id": "b578b292-f73b-432d-aa53-9d02b2d52d56",
   "metadata": {},
   "source": [
    "# access index and value of a list\n",
    "# enumerate(_, start=1) parameter start can offset the index\n",
    "# without skipping the first element\n",
    "for idx, x in enumerate(xs):\n",
    "    print(idx, x)"
   ]
  },
  {
   "cell_type": "raw",
   "id": "1e84b13e-df5b-4506-93e3-7cf930388b54",
   "metadata": {
    "execution": {
     "iopub.execute_input": "2024-03-14T15:57:46.205212Z",
     "iopub.status.busy": "2024-03-14T15:57:46.204211Z",
     "iopub.status.idle": "2024-03-14T15:57:46.217970Z",
     "shell.execute_reply": "2024-03-14T15:57:46.216215Z",
     "shell.execute_reply.started": "2024-03-14T15:57:46.205212Z"
    }
   },
   "source": [
    "# ITERATE EVERY 2 ELEMENTS\n",
    "# can be used to compare two elements of same array\n",
    "# or two different variable(access same indexes)\n",
    "for v, w in zip(test_list[:-1], test_list[1:]):\n",
    "    print([v, w])"
   ]
  },
  {
   "cell_type": "raw",
   "id": "d653e803-6d6d-477e-befe-d74959482881",
   "metadata": {},
   "source": [
    "# unpack dictionary\n",
    "keys, values = zip(*export_res.items())"
   ]
  },
  {
   "cell_type": "raw",
   "id": "b461aac8-7e54-4a20-b66b-54e9b785ffd3",
   "metadata": {},
   "source": [
    "# type of a variable\n",
    "isinstance(var, (type1, type2))  # multiple types = OR"
   ]
  },
  {
   "cell_type": "raw",
   "id": "ddd19814-092b-48ff-800a-15ab492ccd1a",
   "metadata": {},
   "source": [
    "# Downsample a wav\n",
    "\n",
    "waveform, sr = librosa.load('SAMPLE_RATE/48000/b/03-01-06-01-01-01-02.wav', sr=16000)\n",
    "display.display(display.Audio(waveform, rate=sr))\n",
    "snd.write('SAMPLE_RATE/16000/b/03-01-06-01-01-01-02.wav', waveform, sr)"
   ]
  },
  {
   "cell_type": "raw",
   "id": "01ca755e-af8e-4f9f-85d4-2ca9e1925251",
   "metadata": {},
   "source": [
    "# ASCII Unicode of char\n",
    "ord('a')\n",
    "# reverse\n",
    "chr(97)"
   ]
  },
  {
   "cell_type": "raw",
   "id": "e50ce1dc-f173-41ba-bfdb-f6a0caa6aa64",
   "metadata": {},
   "source": [
    "# Shuffle a list\n",
    "var_a = {}\n",
    "SEED = 42\n",
    "\n",
    "list_copy = list(var_a).copy()\n",
    "Random(SEED).shuffle(sampler_shuffled)"
   ]
  },
  {
   "cell_type": "raw",
   "id": "5b06c8a6-3637-4a57-8928-3409351f4c9d",
   "metadata": {},
   "source": [
    "# Check if all elements of a list are equal\n",
    "eq_ar.count(eq_ar[0]) == len(eq_ar)"
   ]
  },
  {
   "cell_type": "raw",
   "id": "f7d32317-4519-4577-bb33-e9ef294a7e7b",
   "metadata": {},
   "source": [
    "# Find file in all subdirectories\n",
    "Path('FlowGridSearch/').rglob('*.mp4')"
   ]
  },
  {
   "cell_type": "raw",
   "id": "7340de41-6771-46fd-9617-8110684dd4d4",
   "metadata": {},
   "source": [
    "# Slice generator\n",
    "gen_all = Path('FlowGridSearch/').rglob('*.mp4')\n",
    "gen_slice = (x for _, x in zip(range(5), gen_all))"
   ]
  },
  {
   "cell_type": "raw",
   "id": "31dc13d1-4da5-425a-90bb-3b7fbbc030ca",
   "metadata": {},
   "source": [
    "# Write a dict to file\n",
    "import json\n",
    "\n",
    "# Writing\n",
    "with open(path, 'w+', newline='') as res_file:\n",
    "    res_file.write(json.dumps(report)) # to write\n",
    "\n",
    "# Reading\n",
    "with open(model_save_path, 'r', newline='') as res_file:\n",
    "    data = res_file.read()\n",
    "    print(json.loads(data))"
   ]
  },
  {
   "cell_type": "raw",
   "id": "124a5139-02a6-4e1c-a9d2-2f8bdd1a06c0",
   "metadata": {},
   "source": [
    "# Space occupation of a variable\n",
    "from pympler import asizeof\n",
    "utils.sizeof_fmt(asizeof.asizeof(frames))"
   ]
  },
  {
   "cell_type": "raw",
   "id": "dafc5ee0-6d6b-4848-9075-449b09ccfd2b",
   "metadata": {},
   "source": [
    "# Unique values in a list, with corresponding\n",
    "# number of occurrences\n",
    "np.unique(example_list, return_counts=True)"
   ]
  },
  {
   "cell_type": "raw",
   "id": "ba6bbe2e-c34b-4d6b-a5b7-e0a148817f6e",
   "metadata": {},
   "source": [
    "# Create a video from one or more folders\n",
    "\n",
    "gen = Path('FlowGridSearch/').glob('Run_50/*/')\n",
    "# total_folders = len(list(gen))  # list(gen) empty the gen, so need renew\n",
    "# p1 = pb.Progressbar(id='p1', elements=total_folders)\n",
    "total_folders = 0\n",
    "\n",
    "for input_path in gen:\n",
    "    total_folders += 1\n",
    "    # p1.add_to_progress(1)\n",
    "    # input_path = Path('FlowGridSearch/Run_3/01-01-02-01-01-02-11/')\n",
    "    output_path = Path(input_path, 'video.mp4')\n",
    "\n",
    "    if output_path.is_file():\n",
    "        print(f'Video exist: {output_path}')\n",
    "        continue\n",
    "\n",
    "    size = (300, 300)  # size of output video\n",
    "    fps = 30\n",
    "    utils.video_from_images(\n",
    "        input_path, output_path, size=size, fps=fps, view=True, save=True\n",
    "    )\n",
    "\n",
    "print(f'Total folders: {total_folders}')"
   ]
  },
  {
   "cell_type": "raw",
   "id": "2ba9f325-6056-437f-8611-e6a5dae913a7",
   "metadata": {},
   "source": [
    "# Show a video\n",
    "video_path = Path('FlowGridSearch/Run_25/01-01-07-02-01-01-03/video_30.mp4')\n",
    "utils.show_video(str(video_path))"
   ]
  },
  {
   "cell_type": "raw",
   "id": "cc403ec5-c073-41ec-b7ed-e580f8659b51",
   "metadata": {},
   "source": [
    "# JPEG Compression Quality\n",
    "cv2.imwrite(filename, image,\n",
    "            [cv2.IMWRITE_JPEG_QUALITY, JPEG_COMPRESSION_QUALITY])"
   ]
  },
  {
   "cell_type": "raw",
   "id": "adbec1f2-05d4-4c1f-bf98-2993fb5d79fc",
   "metadata": {},
   "source": [
    "# Count files in a folder\n",
    "len(list(Path(const.frames_path).glob('*/*')))"
   ]
  },
  {
   "cell_type": "raw",
   "id": "5e82c326-ead2-4396-a410-a012fb9028ea",
   "metadata": {},
   "source": [
    "# Delete File\n",
    "_ = 'video.mp4'\n",
    "if Path(_).exists():\n",
    "    Path(_).unlink()\n",
    "    print(f'{_} was deleted')\n",
    "else:\n",
    "    print(f'{_} does not exist')"
   ]
  },
  {
   "cell_type": "raw",
   "id": "46291b6e-74f9-45cd-8c21-38a1d1ec19d6",
   "metadata": {},
   "source": [
    "# Discretize variable/array -> put discrete values in bin\n",
    "np.digitize(array, bins)"
   ]
  },
  {
   "cell_type": "raw",
   "id": "cc92c4fa-e35a-4624-ae2d-15c47d8e5f4c",
   "metadata": {},
   "source": [
    "# Sort dataframe by attribute values\n",
    "dataframe.sort_values(by=['attribute'])\n",
    "# Sort dataframe by initial indexes\n",
    "dataframe.sort_index()"
   ]
  },
  {
   "cell_type": "raw",
   "id": "92e1f754-df2c-4882-85ba-19d0352229e5",
   "metadata": {},
   "source": [
    "# If substring is in a list of string\n",
    "matching = [s for s in original_file_list if trim_len_subset_sorted.iloc[0].Filename in s]"
   ]
  },
  {
   "cell_type": "raw",
   "id": "2ecb85f3-9277-442d-a6d8-eeb26d05487e",
   "metadata": {},
   "source": [
    "# Intersection of file between lists\n",
    "list(set(train_files) & set(val_files) & set(test_files))"
   ]
  },
  {
   "cell_type": "raw",
   "id": "46a7047b-aa3f-4b62-b340-e3b5a39e36ff",
   "metadata": {},
   "source": [
    "# Evaluate string array\n",
    "np.array(eval(string))"
   ]
  },
  {
   "cell_type": "raw",
   "id": "ac2dd8c6-f243-4e46-ab67-ec311bd424d6",
   "metadata": {},
   "source": [
    "# Expand pandas dataframe column\n",
    "dataset.style.set_table_styles({\n",
    "        'value': [{'selector': '',\n",
    "                   'props': [('width', '600px')]}],\n",
    "    }, overwrite=False)"
   ]
  },
  {
   "cell_type": "raw",
   "id": "f1da839b-67f9-42db-80ff-34371f46a5ce",
   "metadata": {},
   "source": [
    "# Take path extension\n",
    "Path('x/x.png').suffix -> .png"
   ]
  }
 ],
 "metadata": {
  "kernelspec": {
   "display_name": "Python 3 (ipykernel)",
   "language": "python",
   "name": "python3"
  },
  "language_info": {
   "codemirror_mode": {
    "name": "ipython",
    "version": 3
   },
   "file_extension": ".py",
   "mimetype": "text/x-python",
   "name": "python",
   "nbconvert_exporter": "python",
   "pygments_lexer": "ipython3",
   "version": "3.10.10"
  }
 },
 "nbformat": 4,
 "nbformat_minor": 5
}
