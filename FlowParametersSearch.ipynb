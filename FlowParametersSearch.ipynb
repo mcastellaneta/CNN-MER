{
 "cells": [
  {
   "cell_type": "code",
   "execution_count": 1,
   "id": "68cdc33a-9299-4bd8-b2d6-b8d8bdb93c07",
   "metadata": {
    "execution": {
     "iopub.execute_input": "2024-04-28T09:51:24.324485Z",
     "iopub.status.busy": "2024-04-28T09:51:24.324485Z",
     "iopub.status.idle": "2024-04-28T09:54:03.774482Z",
     "shell.execute_reply": "2024-04-28T09:54:03.773057Z",
     "shell.execute_reply.started": "2024-04-28T09:51:24.324485Z"
    }
   },
   "outputs": [],
   "source": [
    "from break_loop import BreakLoopException\n",
    "from pathlib import Path\n",
    "from sklearn.ensemble import ExtraTreesClassifier\n",
    "from sklearn.feature_selection import SelectKBest, chi2\n",
    "from sklearn.model_selection import ParameterSampler\n",
    "from timeit import default_timer\n",
    "import constants as const\n",
    "import csv\n",
    "import cv2\n",
    "import logging\n",
    "import matplotlib.pyplot as plt\n",
    "import numpy as np\n",
    "import pandas as pd\n",
    "import progressbar as pb\n",
    "import seaborn as sns\n",
    "import utils\n",
    "import utils_flow as ut_fl"
   ]
  },
  {
   "cell_type": "code",
   "execution_count": 2,
   "id": "dbd6e909-7dca-42a5-ae71-40ef75eedec2",
   "metadata": {
    "execution": {
     "iopub.execute_input": "2024-04-28T09:54:03.779958Z",
     "iopub.status.busy": "2024-04-28T09:54:03.778945Z",
     "iopub.status.idle": "2024-04-28T09:54:03.857097Z",
     "shell.execute_reply": "2024-04-28T09:54:03.855879Z",
     "shell.execute_reply.started": "2024-04-28T09:54:03.779958Z"
    }
   },
   "outputs": [],
   "source": [
    "# Set the seed value for experiment reproducibility.\n",
    "SEED = 42\n",
    "np.random.seed(SEED)\n",
    "rng = np.random.default_rng(SEED)"
   ]
  },
  {
   "cell_type": "code",
   "execution_count": 3,
   "id": "a4a4de96-1e50-4f72-9207-b5d0b9e902ab",
   "metadata": {
    "execution": {
     "iopub.execute_input": "2024-04-28T09:54:03.873366Z",
     "iopub.status.busy": "2024-04-28T09:54:03.873366Z",
     "iopub.status.idle": "2024-04-28T09:54:04.125992Z",
     "shell.execute_reply": "2024-04-28T09:54:04.124803Z",
     "shell.execute_reply.started": "2024-04-28T09:54:03.873366Z"
    }
   },
   "outputs": [],
   "source": [
    "log_file = Path(const.logs_path, 'FLOWER.log')\n",
    "logging.basicConfig(\n",
    "    format='%(asctime)s %(message)s',\n",
    "    filemode='a',\n",
    "    filename=log_file,\n",
    "    encoding='utf-8',\n",
    "    level=logging.INFO,\n",
    "    force=True\n",
    ")"
   ]
  },
  {
   "cell_type": "code",
   "execution_count": 4,
   "id": "62c08287-c149-4ce4-9f43-4bcb767167d2",
   "metadata": {
    "execution": {
     "iopub.execute_input": "2024-04-28T09:54:04.129400Z",
     "iopub.status.busy": "2024-04-28T09:54:04.129120Z",
     "iopub.status.idle": "2024-04-28T09:54:04.875196Z",
     "shell.execute_reply": "2024-04-28T09:54:04.874530Z",
     "shell.execute_reply.started": "2024-04-28T09:54:04.129400Z"
    }
   },
   "outputs": [],
   "source": [
    "df = pd.read_csv(Path(const.csv_path, 'dataset.csv'))"
   ]
  },
  {
   "cell_type": "code",
   "execution_count": 5,
   "id": "7adec724-9e4c-44f9-a3ba-7910b5e24c27",
   "metadata": {
    "execution": {
     "iopub.execute_input": "2024-04-28T09:54:04.875196Z",
     "iopub.status.busy": "2024-04-28T09:54:04.875196Z",
     "iopub.status.idle": "2024-04-28T09:54:04.891163Z",
     "shell.execute_reply": "2024-04-28T09:54:04.891163Z",
     "shell.execute_reply.started": "2024-04-28T09:54:04.875196Z"
    }
   },
   "outputs": [],
   "source": [
    "OUTPUT_SIZE = [64, 64]\n",
    "N_FRAMES = 10\n",
    "\n",
    "# MAX dimensions of bounding box\n",
    "MAX_WIDTH = MAX_HEIGHT = const.MAX_WIDTH\n",
    "\n",
    "# Dimensions of generated images\n",
    "IMG_WIDTH = IMG_HEIGHT = const.IMG_WIDTH\n",
    "\n",
    "VIDEO_FORMAT_CODECS = const.VIDEO_FORMAT_CODECS"
   ]
  },
  {
   "cell_type": "raw",
   "id": "f81b3c2f-f2f8-46bb-832d-dffb4a9893fc",
   "metadata": {
    "editable": true,
    "raw_mimetype": "",
    "slideshow": {
     "slide_type": ""
    },
    "tags": []
   },
   "source": [
    "# PARAMGRID HISTORY\n",
    "Initial\n",
    "param_grid = {\n",
    "    'WINSIZE': [7, 8, 10, 12, 14, 15],\n",
    "    'PYR_SCALE': [0.1, 0.3, 0.6, 0.7, 0.8, 0.9],\n",
    "    'POLY_SIGMA': [1.1, 1.5, 1.7],\n",
    "    'POLY_N': [1, 5, 15, 30],\n",
    "    'LEVELS': [5, 10, 20, 30],\n",
    "    'ITERATIONS': [1, 3, 5],\n",
    "    'FLAGS': [0]\n",
    "}"
   ]
  },
  {
   "cell_type": "raw",
   "id": "1f819706-5077-4c1c-909f-280b465538d0",
   "metadata": {
    "execution": {
     "iopub.execute_input": "2024-03-26T09:38:34.106391Z",
     "iopub.status.busy": "2024-03-26T09:38:34.106391Z",
     "iopub.status.idle": "2024-03-26T09:38:34.117391Z",
     "shell.execute_reply": "2024-03-26T09:38:34.116389Z",
     "shell.execute_reply.started": "2024-03-26T09:38:34.106391Z"
    },
    "jupyter": {
     "source_hidden": true
    }
   },
   "source": [
    "param_grid = {\n",
    "    'WINSIZE': [15],\n",
    "    'PYR_SCALE': [0.5],\n",
    "    'POLY_SIGMA': [1.2],\n",
    "    'POLY_N': [5],\n",
    "    'LEVELS': [3],\n",
    "    'ITERATIONS': [3],\n",
    "    'FLAGS': [0]\n",
    "}\n",
    "# From https://github.com/anoopchandu/Emotion-Recognition/tree/master"
   ]
  },
  {
   "cell_type": "code",
   "execution_count": 28,
   "id": "35be7c89-e702-431a-ab42-2811ff8b0ead",
   "metadata": {
    "execution": {
     "iopub.execute_input": "2024-04-25T08:59:57.155051Z",
     "iopub.status.busy": "2024-04-25T08:59:57.153050Z",
     "iopub.status.idle": "2024-04-25T08:59:57.227047Z",
     "shell.execute_reply": "2024-04-25T08:59:57.222050Z",
     "shell.execute_reply.started": "2024-04-25T08:59:57.155051Z"
    }
   },
   "outputs": [],
   "source": [
    "def flow_calc(mode, row, save_path, parameters):\n",
    "\n",
    "    functions_arr = [\n",
    "        ut_fl.calc_flow_farneback, ut_fl.calc_flow_TVL1, ut_fl.calc_flow_pyflow\n",
    "    ]\n",
    "\n",
    "    flow_function = functions_arr[mode]\n",
    "    logging.info(row)\n",
    "    logging.info(parameters)\n",
    "\n",
    "    timer_start = default_timer()\n",
    "\n",
    "    low_idx = np.rint(30 * (2 / 3))  # where 30=FPS\n",
    "\n",
    "\n",
    "    # Extract video name\n",
    "    path = row.path\n",
    "    filename = row.filename\n",
    "\n",
    "    # Get target class of video\n",
    "\n",
    "    target_name = utils.get_class_string(filename)\n",
    "\n",
    "    full_path = Path(path, filename)\n",
    "    video_name = utils.remove_extension(filename)\n",
    "\n",
    "    # save_path = const.test_flows_path if (test) else const.flows_path\n",
    "\n",
    "    folder_path = Path(save_path)\n",
    "    # creates the target folder if needed (parents = True)\n",
    "    folder_path.mkdir(parents=True, exist_ok=True)\n",
    "\n",
    "    logging.info(f'Video {index} : {filename}')\n",
    "\n",
    "    # Find CSV file based on video name\n",
    "\n",
    "    csv_regex = f'{video_name}.csv'\n",
    "    path_gen = Path(const.updated_landmarks_path).glob(csv_regex)\n",
    "\n",
    "    ret_list = list(path_gen)\n",
    "\n",
    "    try:\n",
    "        video_csv = ret_list.pop(0)\n",
    "    except IndexError:\n",
    "        print(f'ERROR: video {full_path}: no csv file found ({csv_regex})')\n",
    "        return\n",
    "\n",
    "    data = pd.read_csv(video_csv)\n",
    "\n",
    "    fourcc_mp4 = cv2.VideoWriter_fourcc(*VIDEO_FORMAT_CODECS['mp4'])\n",
    "    out_path = str(Path(save_path, 'video.mp4'))\n",
    "    out_mp4 = cv2.VideoWriter(\n",
    "        out_path, fourcc_mp4, 30, (MAX_WIDTH, MAX_HEIGHT), True\n",
    "    )\n",
    "\n",
    "    vidcap = cv2.VideoCapture(str(full_path))  # open video\n",
    "\n",
    "    frames = utils.get_video_frames(vidcap)\n",
    "    logging.info(f'Class {target_name}, frames: {frames}')\n",
    "\n",
    "    p2.set_elements(frames)\n",
    "\n",
    "    fps = utils.get_video_fps(vidcap)\n",
    "\n",
    "    high_idx = frames - low_idx\n",
    "\n",
    "    trim_frame = high_idx - low_idx\n",
    "\n",
    "    seconds = frames / fps\n",
    "\n",
    "    logging.info(f'Duration: {seconds:.2f}')\n",
    "    logging.info(f'Speaking Frames: {trim_frame} ({low_idx} - {high_idx}) = \\\n",
    "    {(trim_frame/frames):.2%} of {frames}')\n",
    "\n",
    "    logging.info('\\n')\n",
    "\n",
    "    is_good_flow = ''\n",
    "    show = True\n",
    "    skip = False\n",
    "\n",
    "    ret, frame1 = vidcap.read()\n",
    "\n",
    "    ra = utils.calc_bounding_box(data, 1)\n",
    "\n",
    "    x, y, width, height = ra['box']\n",
    "\n",
    "    face = frame1[y:y + height, x:x + width, :]\n",
    "\n",
    "    face = cv2.resize(face, dsize=(MAX_WIDTH, MAX_HEIGHT))\n",
    "\n",
    "    prvs_rgb = face\n",
    "    prvs = cv2.cvtColor(face, cv2.COLOR_BGR2GRAY)\n",
    "\n",
    "    hsv = np.zeros_like(face)\n",
    "    hsv[..., 1] = 255\n",
    "\n",
    "    vidcap.set(cv2.CAP_PROP_POS_FRAMES, 1)\n",
    "#    frame_number = 1\n",
    "\n",
    "    for frame_number in range(1, frames):\n",
    "\n",
    "        success, image = vidcap.read()\n",
    "\n",
    "#        frame_idx = frame_number - (low_idx - 1)\n",
    "        speaking_frame = frame_number >= low_idx and frame_number <= high_idx\n",
    "\n",
    "        flow_string = f'{video_name}-{frame_number:03d}'\n",
    "        speaking_string = '01' if speaking_frame else '00'\n",
    "\n",
    "        save_string = f'{flow_string}-{speaking_string}.jpg'\n",
    "        ra = utils.calc_bounding_box(data, frame_number)\n",
    "\n",
    "        x, y, width, height = ra['box']\n",
    "\n",
    "        face = image[y:y + height, x:x + width, :]\n",
    "\n",
    "        face = cv2.resize(face, dsize=(MAX_WIDTH, MAX_HEIGHT))\n",
    "\n",
    "        next_rgb = face\n",
    "        next = cv2.cvtColor(face, cv2.COLOR_BGR2GRAY)\n",
    "\n",
    "        gr1 = flow_function(\n",
    "            prvs,\n",
    "            next,\n",
    "            parameters,\n",
    "            logger=logging\n",
    "        )\n",
    "\n",
    "        gr1_grey = cv2.cvtColor(gr1, cv2.COLOR_BGR2GRAY)\n",
    "        prvs = next\n",
    "        if show is True:\n",
    "            cv2.imshow('Flow', gr1_grey / 255)\n",
    "            key = cv2.waitKey(int(1000/fps))\n",
    "            match key:\n",
    "                case 27:  # ESC\n",
    "                    logging.info('Break')\n",
    "                    logging.info('Bad Flow')\n",
    "                    is_good_flow = str(0)\n",
    "                    skip = True\n",
    "                    break\n",
    "                case 98:  # letter 'b'\n",
    "                    logging.info('Bad Flow')\n",
    "                    is_good_flow = str(0)\n",
    "                case 104:  # letter 'h' - hide screen\n",
    "                    logging.info('Hide Screen')\n",
    "                    show = False\n",
    "                    cv2.destroyAllWindows()\n",
    "                case 111:  # letter 'o'\n",
    "                    logging.info('Good Flow')\n",
    "                    is_good_flow = str(1)\n",
    "                case 113:  # q\n",
    "                    logging.info('EXIT')\n",
    "                    vidcap.release()\n",
    "                    out_mp4.release()\n",
    "                    out_mp4 = None\n",
    "                    cv2.destroyAllWindows()\n",
    "                    raise BreakLoopException(\n",
    "                        f'BLE at video {video_name}: frame {frame_number}'\n",
    "                    )\n",
    "\n",
    "        out_mp4.write(gr1)\n",
    "        gr1_res = cv2.resize(gr1, dsize=(IMG_HEIGHT, IMG_WIDTH))\n",
    "        cv2.imwrite(str(Path(folder_path, save_string)), gr1_res)\n",
    "\n",
    "        p2.update_progress(frame_number)\n",
    "\n",
    "    vidcap.release()\n",
    "    out_mp4.release()\n",
    "    out_mp4 = None\n",
    "\n",
    "\n",
    "    if is_good_flow == '':\n",
    "        key = cv2.waitKey(7000)  # Wait 7 s for an input\n",
    "        match key:\n",
    "            case 98:  # letter 'b'\n",
    "                logging.info('Bad Flow')\n",
    "                is_good_flow = str(0)\n",
    "            case 111:  # letter 'o'\n",
    "                logging.info('Good Flow')\n",
    "                is_good_flow = str(1)\n",
    "            case _:\n",
    "                logging.info('Not Defined')\n",
    "                is_good_flow = '-'\n",
    "\n",
    "    cv2.destroyAllWindows()\n",
    "\n",
    "    timer_end = default_timer() - timer_start\n",
    "\n",
    "    csv_path = Path(save_path.parent.parent, 'runs.csv')\n",
    "    with open(csv_path, 'a+', newline='') as res_file:\n",
    "        filewriter = csv.writer(res_file, delimiter=',',\n",
    "                                quoting=csv.QUOTE_MINIMAL)\n",
    "\n",
    "        values_list = [value for value in params.values()]\n",
    "        values_list.insert(0, save_path.parent.name)\n",
    "        values_list.insert(1, video_name)\n",
    "        values_list.append(timer_end)\n",
    "        values_list.append('skip' if skip else '')\n",
    "        values_list.append(is_good_flow)\n",
    "        filewriter.writerow(\n",
    "            values_list\n",
    "        )\n",
    "\n",
    "    p2.update_progress(frames)"
   ]
  },
  {
   "cell_type": "code",
   "execution_count": 48,
   "id": "52e641fe-9164-433c-94d2-c1660ec854e1",
   "metadata": {
    "execution": {
     "iopub.execute_input": "2024-04-25T09:26:12.494588Z",
     "iopub.status.busy": "2024-04-25T09:26:12.493588Z",
     "iopub.status.idle": "2024-04-25T09:26:12.513587Z",
     "shell.execute_reply": "2024-04-25T09:26:12.511594Z",
     "shell.execute_reply.started": "2024-04-25T09:26:12.494588Z"
    }
   },
   "outputs": [],
   "source": [
    "# FARNEBACK\n",
    "p_0 = {\n",
    "    'WINSIZE': [3, 7, 10, 15],\n",
    "    'PYR_SCALE': [0.1, 0.3, 0.5, 0.6, 0.7, 0.8, 0.9],\n",
    "    'POLY_SIGMA': [1.5, 1.7],\n",
    "    'POLY_N': [5, 7],\n",
    "    'LEVELS': [3, 5],\n",
    "    'ITERATIONS': [1, 3, 5, 10],\n",
    "    'FLAGS': [0]\n",
    "}\n",
    "\n",
    "# PYFLOW\n",
    "p_2 = {\n",
    "    'pyflow_alpha': [0.1],\n",
    "    'pyflow_ratio': [0.8],\n",
    "    'pyflow_minWidth': [3],\n",
    "    'pyflow_nOuterFPIterations': [1],\n",
    "    'pyflow_nInnerFPIterations': [1],\n",
    "    'pyflow_nSORIterations': [1],\n",
    "    'pyflow_colType': [1]\n",
    "}\n",
    "# TVL1\n",
    "p_1 = {\n",
    "    'warps': [5],\n",
    "    'useInitialFlow': [False],\n",
    "    'theta': [0.3],\n",
    "    'tau': [0.25],\n",
    "    'scaleStep': [0.8],\n",
    "    'outerIterations': [5],\n",
    "    'nscales': [5],\n",
    "    'medianFiltering': [5],\n",
    "    'lambda_': [0.15],\n",
    "    'innerIterations': [5],\n",
    "    'gamma': [0.0],\n",
    "    'epsilon': [0.01]\n",
    "}"
   ]
  },
  {
   "cell_type": "code",
   "execution_count": 49,
   "id": "6bfdc6dd-8be4-4916-bd73-6addb271fcc9",
   "metadata": {
    "execution": {
     "iopub.execute_input": "2024-04-25T09:26:12.875237Z",
     "iopub.status.busy": "2024-04-25T09:26:12.874234Z",
     "iopub.status.idle": "2024-04-25T09:26:12.892234Z",
     "shell.execute_reply": "2024-04-25T09:26:12.890232Z",
     "shell.execute_reply.started": "2024-04-25T09:26:12.875237Z"
    }
   },
   "outputs": [],
   "source": [
    "param_grid_ar = [p_0, p_1, p_2]"
   ]
  },
  {
   "cell_type": "code",
   "execution_count": 50,
   "id": "d36c5bc6-2965-4c2a-8280-01580a035bdc",
   "metadata": {
    "editable": true,
    "execution": {
     "iopub.execute_input": "2024-04-25T09:26:13.301527Z",
     "iopub.status.busy": "2024-04-25T09:26:13.299526Z",
     "iopub.status.idle": "2024-04-25T09:26:19.080307Z",
     "shell.execute_reply": "2024-04-25T09:26:19.079348Z",
     "shell.execute_reply.started": "2024-04-25T09:26:13.301527Z"
    },
    "slideshow": {
     "slide_type": ""
    },
    "tags": []
   },
   "outputs": [
    {
     "data": {
      "text/plain": [
       "'Progress: [####################] 100%             1/1'"
      ]
     },
     "metadata": {},
     "output_type": "display_data"
    },
    {
     "data": {
      "text/plain": [
       "'Progress: [#-------------------] 5%             1/30'"
      ]
     },
     "metadata": {},
     "output_type": "display_data"
    },
    {
     "data": {
      "text/plain": [
       "'Progress: [###########---------] 55%             69/123'"
      ]
     },
     "metadata": {},
     "output_type": "display_data"
    },
    {
     "name": "stdout",
     "output_type": "stream",
     "text": [
      "{'WINSIZE': 7, 'PYR_SCALE': 0.5, 'POLY_SIGMA': 1.7, 'POLY_N': 5, 'LEVELS': 3, 'ITERATIONS': 1, 'FLAGS': 0}\n",
      "BLE at video 01-01-07-02-01-01-03: frame 70\n"
     ]
    }
   ],
   "source": [
    "# GridSearch\n",
    "# 0: Farneback, 1: TVL1, 2: pyflow\n",
    "flow_type = 0\n",
    "param_grid = param_grid_ar[flow_type]\n",
    "par_space = np.prod([len(x) for x in param_grid.values()])\n",
    "\n",
    "runs_file = Path('FlowGridSearch/runs.csv')\n",
    "\n",
    "if not runs_file.is_file():\n",
    "    with open(runs_file, 'w', newline='') as res_file:\n",
    "        filewriter = csv.writer(res_file, delimiter=',',\n",
    "                                quoting=csv.QUOTE_MINIMAL)\n",
    "        keys_list = [value for value in param_grid.keys()]\n",
    "        keys_list.insert(0, 'Folder')\n",
    "        keys_list.insert(1, 'Name')\n",
    "        keys_list.append('Time')\n",
    "        keys_list.append('Note')\n",
    "        keys_list.append('Good')\n",
    "        filewriter.writerow(keys_list)\n",
    "\n",
    "iterations = 30\n",
    "iterations = min(iterations, par_space)\n",
    "\n",
    "\n",
    "sampler = ParameterSampler(param_grid, iterations, random_state=SEED)\n",
    "\n",
    "elem_to_take = 1\n",
    "\n",
    "# Create a random copy of the database and take the first x elements\n",
    "df_random = df.copy().sample(frac=1, random_state=SEED).reset_index(drop=True)\n",
    "\n",
    "run = 0\n",
    "\n",
    "p0 = pb.Progressbar(id='p0', elements=elem_to_take)\n",
    "p1 = pb.Progressbar(id='p1', elements=iterations)\n",
    "p2 = pb.Progressbar(id='p2', elements=100)\n",
    "\n",
    "try:\n",
    "    for params in sampler:\n",
    "        run += 1\n",
    "        print(params)\n",
    "        p1.add_to_progress(1)\n",
    "        for index, row in df_random.iloc[:elem_to_take].iterrows():\n",
    "            p0.add_to_progress(1)\n",
    "            filename = utils.remove_extension(row.filename)\n",
    "            out_path = Path('FlowGridSearch', f'Run_{run}', filename)\n",
    "            flow_calc(flow_type, row, out_path, params)\n",
    "except BreakLoopException as BLE:\n",
    "    details = BLE.args[0]\n",
    "    print(details)"
   ]
  },
  {
   "cell_type": "code",
   "execution_count": 187,
   "id": "7c39e5c2-ac3e-46e7-96fa-6e9b8f5e0e13",
   "metadata": {
    "execution": {
     "iopub.execute_input": "2024-04-17T16:54:51.433521Z",
     "iopub.status.busy": "2024-04-17T16:54:51.432522Z",
     "iopub.status.idle": "2024-04-17T16:55:10.066942Z",
     "shell.execute_reply": "2024-04-17T16:55:10.061944Z",
     "shell.execute_reply.started": "2024-04-17T16:54:51.433521Z"
    }
   },
   "outputs": [
    {
     "data": {
      "text/plain": [
       "'Progress: [####################] 100%             5/5'"
      ]
     },
     "metadata": {},
     "output_type": "display_data"
    },
    {
     "name": "stdout",
     "output_type": "stream",
     "text": [
      "No frames grabbed!\n",
      "No frames grabbed!\n",
      "No frames grabbed!\n",
      "No frames grabbed!\n",
      "No frames grabbed!\n"
     ]
    }
   ],
   "source": [
    "# Show all videos in FlowGridSearch folder\n",
    "gen_all = Path('FlowGridSearch/').rglob('*.mp4')\n",
    "videos_to_show = 5\n",
    "p1 = pb.Progressbar('p1', videos_to_show)\n",
    "gen_slice = (x for _, x in zip(range(videos_to_show), gen_all))\n",
    "\n",
    "for video in gen_slice:\n",
    "    p1.add_to_progress(1)\n",
    "    utils.show_video(video)"
   ]
  },
  {
   "cell_type": "code",
   "execution_count": 190,
   "id": "f7d8a824-6216-400f-bf8e-fa7616e9a348",
   "metadata": {
    "execution": {
     "iopub.execute_input": "2024-04-17T16:59:21.442025Z",
     "iopub.status.busy": "2024-04-17T16:59:21.441027Z",
     "iopub.status.idle": "2024-04-17T16:59:21.711290Z",
     "shell.execute_reply": "2024-04-17T16:59:21.709290Z",
     "shell.execute_reply.started": "2024-04-17T16:59:21.442025Z"
    }
   },
   "outputs": [
    {
     "data": {
      "text/html": [
       "<div>\n",
       "<style scoped>\n",
       "    .dataframe tbody tr th:only-of-type {\n",
       "        vertical-align: middle;\n",
       "    }\n",
       "\n",
       "    .dataframe tbody tr th {\n",
       "        vertical-align: top;\n",
       "    }\n",
       "\n",
       "    .dataframe thead th {\n",
       "        text-align: right;\n",
       "    }\n",
       "</style>\n",
       "<table border=\"1\" class=\"dataframe\">\n",
       "  <thead>\n",
       "    <tr style=\"text-align: right;\">\n",
       "      <th></th>\n",
       "      <th>Folder</th>\n",
       "      <th>Name</th>\n",
       "      <th>WINSIZE</th>\n",
       "      <th>PYR_SCALE</th>\n",
       "      <th>POLY_SIGMA</th>\n",
       "      <th>POLY_N</th>\n",
       "      <th>LEVELS</th>\n",
       "      <th>ITERATIONS</th>\n",
       "      <th>FLAGS</th>\n",
       "      <th>Time</th>\n",
       "      <th>Good</th>\n",
       "    </tr>\n",
       "  </thead>\n",
       "  <tbody>\n",
       "    <tr>\n",
       "      <th>0</th>\n",
       "      <td>Run_1</td>\n",
       "      <td>01-01-07-02-01-01-03</td>\n",
       "      <td>10</td>\n",
       "      <td>0.9</td>\n",
       "      <td>1.7</td>\n",
       "      <td>30</td>\n",
       "      <td>10</td>\n",
       "      <td>1</td>\n",
       "      <td>0</td>\n",
       "      <td>100.168683</td>\n",
       "      <td>0</td>\n",
       "    </tr>\n",
       "    <tr>\n",
       "      <th>1</th>\n",
       "      <td>Run_1</td>\n",
       "      <td>01-01-02-01-01-02-11</td>\n",
       "      <td>10</td>\n",
       "      <td>0.9</td>\n",
       "      <td>1.7</td>\n",
       "      <td>30</td>\n",
       "      <td>10</td>\n",
       "      <td>1</td>\n",
       "      <td>0</td>\n",
       "      <td>81.000666</td>\n",
       "      <td>0</td>\n",
       "    </tr>\n",
       "    <tr>\n",
       "      <th>2</th>\n",
       "      <td>Run_1</td>\n",
       "      <td>01-01-02-02-01-01-10</td>\n",
       "      <td>10</td>\n",
       "      <td>0.9</td>\n",
       "      <td>1.7</td>\n",
       "      <td>30</td>\n",
       "      <td>10</td>\n",
       "      <td>1</td>\n",
       "      <td>0</td>\n",
       "      <td>91.012019</td>\n",
       "      <td>0</td>\n",
       "    </tr>\n",
       "    <tr>\n",
       "      <th>3</th>\n",
       "      <td>Run_2</td>\n",
       "      <td>01-01-07-02-01-01-03</td>\n",
       "      <td>14</td>\n",
       "      <td>0.8</td>\n",
       "      <td>1.7</td>\n",
       "      <td>15</td>\n",
       "      <td>5</td>\n",
       "      <td>5</td>\n",
       "      <td>0</td>\n",
       "      <td>15.604797</td>\n",
       "      <td>0</td>\n",
       "    </tr>\n",
       "    <tr>\n",
       "      <th>4</th>\n",
       "      <td>Run_2</td>\n",
       "      <td>01-01-02-01-01-02-11</td>\n",
       "      <td>14</td>\n",
       "      <td>0.8</td>\n",
       "      <td>1.7</td>\n",
       "      <td>15</td>\n",
       "      <td>5</td>\n",
       "      <td>5</td>\n",
       "      <td>0</td>\n",
       "      <td>12.172965</td>\n",
       "      <td>0</td>\n",
       "    </tr>\n",
       "    <tr>\n",
       "      <th>...</th>\n",
       "      <td>...</td>\n",
       "      <td>...</td>\n",
       "      <td>...</td>\n",
       "      <td>...</td>\n",
       "      <td>...</td>\n",
       "      <td>...</td>\n",
       "      <td>...</td>\n",
       "      <td>...</td>\n",
       "      <td>...</td>\n",
       "      <td>...</td>\n",
       "      <td>...</td>\n",
       "    </tr>\n",
       "    <tr>\n",
       "      <th>85</th>\n",
       "      <td>Run_29</td>\n",
       "      <td>01-01-02-01-01-02-11</td>\n",
       "      <td>14</td>\n",
       "      <td>0.9</td>\n",
       "      <td>1.1</td>\n",
       "      <td>5</td>\n",
       "      <td>20</td>\n",
       "      <td>3</td>\n",
       "      <td>0</td>\n",
       "      <td>13.460320</td>\n",
       "      <td>0</td>\n",
       "    </tr>\n",
       "    <tr>\n",
       "      <th>86</th>\n",
       "      <td>Run_29</td>\n",
       "      <td>01-01-02-02-01-01-10</td>\n",
       "      <td>14</td>\n",
       "      <td>0.9</td>\n",
       "      <td>1.1</td>\n",
       "      <td>5</td>\n",
       "      <td>20</td>\n",
       "      <td>3</td>\n",
       "      <td>0</td>\n",
       "      <td>15.110116</td>\n",
       "      <td>0</td>\n",
       "    </tr>\n",
       "    <tr>\n",
       "      <th>87</th>\n",
       "      <td>Run_30</td>\n",
       "      <td>01-01-07-02-01-01-03</td>\n",
       "      <td>15</td>\n",
       "      <td>0.6</td>\n",
       "      <td>1.7</td>\n",
       "      <td>30</td>\n",
       "      <td>20</td>\n",
       "      <td>3</td>\n",
       "      <td>0</td>\n",
       "      <td>35.967002</td>\n",
       "      <td>0</td>\n",
       "    </tr>\n",
       "    <tr>\n",
       "      <th>88</th>\n",
       "      <td>Run_30</td>\n",
       "      <td>01-01-02-01-01-02-11</td>\n",
       "      <td>15</td>\n",
       "      <td>0.6</td>\n",
       "      <td>1.7</td>\n",
       "      <td>30</td>\n",
       "      <td>20</td>\n",
       "      <td>3</td>\n",
       "      <td>0</td>\n",
       "      <td>29.041801</td>\n",
       "      <td>0</td>\n",
       "    </tr>\n",
       "    <tr>\n",
       "      <th>89</th>\n",
       "      <td>Run_30</td>\n",
       "      <td>01-01-02-02-01-01-10</td>\n",
       "      <td>15</td>\n",
       "      <td>0.6</td>\n",
       "      <td>1.7</td>\n",
       "      <td>30</td>\n",
       "      <td>20</td>\n",
       "      <td>3</td>\n",
       "      <td>0</td>\n",
       "      <td>32.531336</td>\n",
       "      <td>0</td>\n",
       "    </tr>\n",
       "  </tbody>\n",
       "</table>\n",
       "<p>90 rows × 11 columns</p>\n",
       "</div>"
      ],
      "text/plain": [
       "    Folder                  Name  WINSIZE  PYR_SCALE  POLY_SIGMA  POLY_N  \\\n",
       "0    Run_1  01-01-07-02-01-01-03       10        0.9         1.7      30   \n",
       "1    Run_1  01-01-02-01-01-02-11       10        0.9         1.7      30   \n",
       "2    Run_1  01-01-02-02-01-01-10       10        0.9         1.7      30   \n",
       "3    Run_2  01-01-07-02-01-01-03       14        0.8         1.7      15   \n",
       "4    Run_2  01-01-02-01-01-02-11       14        0.8         1.7      15   \n",
       "..     ...                   ...      ...        ...         ...     ...   \n",
       "85  Run_29  01-01-02-01-01-02-11       14        0.9         1.1       5   \n",
       "86  Run_29  01-01-02-02-01-01-10       14        0.9         1.1       5   \n",
       "87  Run_30  01-01-07-02-01-01-03       15        0.6         1.7      30   \n",
       "88  Run_30  01-01-02-01-01-02-11       15        0.6         1.7      30   \n",
       "89  Run_30  01-01-02-02-01-01-10       15        0.6         1.7      30   \n",
       "\n",
       "    LEVELS  ITERATIONS  FLAGS        Time  Good  \n",
       "0       10           1      0  100.168683     0  \n",
       "1       10           1      0   81.000666     0  \n",
       "2       10           1      0   91.012019     0  \n",
       "3        5           5      0   15.604797     0  \n",
       "4        5           5      0   12.172965     0  \n",
       "..     ...         ...    ...         ...   ...  \n",
       "85      20           3      0   13.460320     0  \n",
       "86      20           3      0   15.110116     0  \n",
       "87      20           3      0   35.967002     0  \n",
       "88      20           3      0   29.041801     0  \n",
       "89      20           3      0   32.531336     0  \n",
       "\n",
       "[90 rows x 11 columns]"
      ]
     },
     "execution_count": 190,
     "metadata": {},
     "output_type": "execute_result"
    }
   ],
   "source": [
    "# Print Best Results\n",
    "\n",
    "flow_results_ds = pd.read_csv(Path('FlowGridSearch', 'runs_1-30.csv'),\n",
    "                              index_col=False)\n",
    "flow_results_ds"
   ]
  },
  {
   "cell_type": "code",
   "execution_count": 191,
   "id": "670a05c5-a7ce-4eae-af38-a6cce4dde0d1",
   "metadata": {
    "execution": {
     "iopub.execute_input": "2024-04-17T16:59:32.222612Z",
     "iopub.status.busy": "2024-04-17T16:59:32.221614Z",
     "iopub.status.idle": "2024-04-17T16:59:32.356609Z",
     "shell.execute_reply": "2024-04-17T16:59:32.355610Z",
     "shell.execute_reply.started": "2024-04-17T16:59:32.222612Z"
    }
   },
   "outputs": [
    {
     "name": "stdout",
     "output_type": "stream",
     "text": [
      "Good: 15/90 16.67%\n",
      "\n",
      "WINSIZE:7 -> 3/15 Percentage: 20.00%\n",
      "WINSIZE:8 -> 3/15 Percentage: 20.00%\n",
      "WINSIZE:10 -> 6/15 Percentage: 40.00%\n",
      "WINSIZE:12 -> 3/15 Percentage: 20.00%\n",
      "WINSIZE:14 -> 0/15 Percentage: 0.00%\n",
      "WINSIZE:15 -> 0/15 Percentage: 0.00%\n",
      "\n",
      "PYR_SCALE:0.1 -> 9/15 Percentage: 60.00%\n",
      "PYR_SCALE:0.3 -> 0/15 Percentage: 0.00%\n",
      "PYR_SCALE:0.6 -> 0/15 Percentage: 0.00%\n",
      "PYR_SCALE:0.7 -> 3/15 Percentage: 20.00%\n",
      "PYR_SCALE:0.8 -> 3/15 Percentage: 20.00%\n",
      "PYR_SCALE:0.9 -> 0/15 Percentage: 0.00%\n",
      "\n",
      "POLY_SIGMA:1.1 -> 9/15 Percentage: 60.00%\n",
      "POLY_SIGMA:1.5 -> 0/15 Percentage: 0.00%\n",
      "POLY_SIGMA:1.7 -> 6/15 Percentage: 40.00%\n",
      "\n",
      "POLY_N:1 -> 0/15 Percentage: 0.00%\n",
      "POLY_N:5 -> 3/15 Percentage: 20.00%\n",
      "POLY_N:15 -> 6/15 Percentage: 40.00%\n",
      "POLY_N:30 -> 6/15 Percentage: 40.00%\n",
      "\n",
      "LEVELS:5 -> 0/15 Percentage: 0.00%\n",
      "LEVELS:10 -> 3/15 Percentage: 20.00%\n",
      "LEVELS:20 -> 9/15 Percentage: 60.00%\n",
      "LEVELS:30 -> 3/15 Percentage: 20.00%\n",
      "\n",
      "ITERATIONS:1 -> 6/15 Percentage: 40.00%\n",
      "ITERATIONS:3 -> 6/15 Percentage: 40.00%\n",
      "ITERATIONS:5 -> 3/15 Percentage: 20.00%\n",
      "\n",
      "FLAGS:0 -> 15/15 Percentage: 100.00%\n"
     ]
    }
   ],
   "source": [
    "# For every attribute find how many good flow has\n",
    "\n",
    "n_rows = len(flow_results_ds)\n",
    "n_good = flow_results_ds['Good'].sum()  # Total goods\n",
    "\n",
    "print(f'Good: {n_good}/{n_rows} {n_good / n_rows:.2%}')\n",
    "\n",
    "for col in flow_results_ds.columns[2:-2]:\n",
    "    print()\n",
    "    for i in np.sort(flow_results_ds[col].unique()):\n",
    "        df_i = flow_results_ds.loc[flow_results_ds[col] == i, :]\n",
    "        col_sum = df_i['Good'].sum()\n",
    "        ratio = col_sum / n_good\n",
    "        print(f'{col}:{i} -> {col_sum}/{n_good} Percentage: {ratio:.2%}')"
   ]
  },
  {
   "cell_type": "markdown",
   "id": "31c437ca-ac61-49e4-a305-6abacadd0f7e",
   "metadata": {},
   "source": [
    "### Feature Selection \n",
    "1. Univariate Selection\n",
    "2. Feature Importance\n",
    "3. Correlation Matrix with Heatmap\n"
   ]
  },
  {
   "cell_type": "code",
   "execution_count": 192,
   "id": "b9d33190-76b0-45a6-99d6-a01407dec099",
   "metadata": {
    "execution": {
     "iopub.execute_input": "2024-04-17T16:59:41.362626Z",
     "iopub.status.busy": "2024-04-17T16:59:41.361632Z",
     "iopub.status.idle": "2024-04-17T16:59:41.442623Z",
     "shell.execute_reply": "2024-04-17T16:59:41.439623Z",
     "shell.execute_reply.started": "2024-04-17T16:59:41.362626Z"
    }
   },
   "outputs": [],
   "source": [
    "X = flow_results_ds.iloc[:, 2:-2]  # independent columns\n",
    "y = flow_results_ds.iloc[:, -1]  # target column"
   ]
  },
  {
   "cell_type": "markdown",
   "id": "3941389e-a016-45b8-ba6d-0f966b77e6de",
   "metadata": {},
   "source": [
    "### Univariate Selection"
   ]
  },
  {
   "cell_type": "code",
   "execution_count": 193,
   "id": "a3bee091-fecb-4fe4-aa94-b9b9f048641c",
   "metadata": {
    "execution": {
     "iopub.execute_input": "2024-04-17T16:59:42.656607Z",
     "iopub.status.busy": "2024-04-17T16:59:42.656607Z",
     "iopub.status.idle": "2024-04-17T16:59:43.250471Z",
     "shell.execute_reply": "2024-04-17T16:59:43.248469Z",
     "shell.execute_reply.started": "2024-04-17T16:59:42.656607Z"
    }
   },
   "outputs": [
    {
     "name": "stdout",
     "output_type": "stream",
     "text": [
      "        Specs      Score\n",
      "3      POLY_N  29.205634\n",
      "4      LEVELS   8.417476\n",
      "0     WINSIZE   3.870732\n",
      "1   PYR_SCALE   1.285714\n",
      "2  POLY_SIGMA   0.159083\n"
     ]
    }
   ],
   "source": [
    "# Apply SelectKBest class to extract top 5 features\n",
    "bestfeatures = SelectKBest(score_func=chi2, k=5)\n",
    "fit = bestfeatures.fit(X, y)\n",
    "\n",
    "dfscores = pd.DataFrame(fit.scores_)\n",
    "dfcolumns = pd.DataFrame(X.columns)\n",
    "\n",
    "# Concat two dataframes for better visualization\n",
    "featureScores = pd.concat([dfcolumns, dfscores], axis=1)\n",
    "featureScores.columns = ['Specs', 'Score']\n",
    "print(featureScores.nlargest(5, 'Score'))"
   ]
  },
  {
   "cell_type": "markdown",
   "id": "621a2591-8ab2-4b2e-a40d-151c12b6d4f2",
   "metadata": {},
   "source": [
    "### Feature Importance"
   ]
  },
  {
   "cell_type": "code",
   "execution_count": 194,
   "id": "06f10c6e-6837-43aa-af75-3c534ff0f605",
   "metadata": {
    "execution": {
     "iopub.execute_input": "2024-04-17T16:59:45.532495Z",
     "iopub.status.busy": "2024-04-17T16:59:45.531495Z",
     "iopub.status.idle": "2024-04-17T16:59:47.238308Z",
     "shell.execute_reply": "2024-04-17T16:59:47.236310Z",
     "shell.execute_reply.started": "2024-04-17T16:59:45.532495Z"
    }
   },
   "outputs": [
    {
     "name": "stdout",
     "output_type": "stream",
     "text": [
      "[0.16068507 0.23797977 0.14746138 0.14986977 0.18013473 0.12386927\n",
      " 0.        ]\n"
     ]
    },
    {
     "data": {
      "image/png": "[encoded data removed]",
      "text/plain": [
       "<Figure size 640x480 with 1 Axes>"
      ]
     },
     "metadata": {},
     "output_type": "display_data"
    }
   ],
   "source": [
    "model = ExtraTreesClassifier()\n",
    "model.fit(X, y)\n",
    "print(model.feature_importances_)  # use builtin class feature_importances\n",
    "\n",
    "feat_importances = pd.Series(model.feature_importances_, index=X.columns)\n",
    "feat_importances.nlargest(5).plot(kind='barh')\n",
    "plt.show()"
   ]
  },
  {
   "cell_type": "code",
   "execution_count": 195,
   "id": "a7eee138-d005-41b8-bb10-df881731b7ac",
   "metadata": {
    "execution": {
     "iopub.execute_input": "2024-04-17T16:59:57.388420Z",
     "iopub.status.busy": "2024-04-17T16:59:57.387419Z",
     "iopub.status.idle": "2024-04-17T16:59:58.421327Z",
     "shell.execute_reply": "2024-04-17T16:59:58.420333Z",
     "shell.execute_reply.started": "2024-04-17T16:59:57.388420Z"
    }
   },
   "outputs": [
    {
     "data": {
      "image/png": "[encoded data removed]",
      "text/plain": [
       "<Figure size 1500x1500 with 2 Axes>"
      ]
     },
     "metadata": {},
     "output_type": "display_data"
    }
   ],
   "source": [
    "corrmat = flow_results_ds.drop('FLAGS', axis=1).iloc[:, 2:].corr()\n",
    "top_corr_features = corrmat.index\n",
    "plt.figure(figsize=(15, 15))\n",
    "\n",
    "g = sns.heatmap(flow_results_ds[top_corr_features].corr(),\n",
    "                annot=True, cmap=\"RdYlGn\")"
   ]
  },
  {
   "cell_type": "raw",
   "id": "2ed92f8d-82b4-47bb-9c97-1461ca752adf",
   "metadata": {
    "execution": {
     "iopub.execute_input": "2024-03-12T15:12:38.229125Z",
     "iopub.status.busy": "2024-03-12T15:12:38.229125Z",
     "iopub.status.idle": "2024-03-12T15:12:38.867748Z",
     "shell.execute_reply": "2024-03-12T15:12:38.865929Z",
     "shell.execute_reply.started": "2024-03-12T15:12:38.229125Z"
    },
    "jupyter": {
     "source_hidden": true
    }
   },
   "source": [
    "# Compare results\n",
    "flow_1 = Path('FlowGridSearch/Run_1/01-01-07-02-01-01-03/01-01-07-02-01-01-03-002-00.jpg')\n",
    "flow_2 = Path('FlowGridSearch/Run_1/01-01-07-02-01-01-03/01-01-07-02-01-01-03-003-00.jpg')\n",
    "im_1 = cv2.imread(str(flow_1))\n",
    "im_2 = cv2.imread(str(flow_2))\n",
    "pltDisplay(im_1)\n",
    "pltDisplay(im_2)\n",
    "# np.array_equiv(im_1, im_2)"
   ]
  },
  {
   "cell_type": "raw",
   "id": "912b9bd3-57bb-44b6-948e-724ef6f5f28c",
   "metadata": {
    "execution": {
     "iopub.execute_input": "2024-03-12T11:22:45.231885Z",
     "iopub.status.busy": "2024-03-12T11:22:45.230876Z",
     "iopub.status.idle": "2024-03-12T11:22:45.244872Z",
     "shell.execute_reply": "2024-03-12T11:22:45.242892Z",
     "shell.execute_reply.started": "2024-03-12T11:22:45.231885Z"
    },
    "jupyter": {
     "source_hidden": true
    }
   },
   "source": [
    "def format_frames(frame, output_size):\n",
    "    \"\"\"\n",
    "    Pad and resize an image from a video.\n",
    "\n",
    "    Args:\n",
    "      frame: Image that needs to resized and padded.\n",
    "      output_size: Pixel size of the output frame image.\n",
    "\n",
    "    Return:\n",
    "      Formatted frame with padding of specified output size.\n",
    "    \"\"\"\n",
    "    frame = tf.image.convert_image_dtype(frame, tf.float32)\n",
    "    # frame = tf.image.resize_with_pad(frame, *output_size)\n",
    "    return frame"
   ]
  },
  {
   "cell_type": "raw",
   "id": "1abaccd4-87a7-47e0-9648-c42b940a99bc",
   "metadata": {
    "jupyter": {
     "source_hidden": true
    }
   },
   "source": [
    "def frames_from_video_file(video_path, n_frames=N_FRAMES,\n",
    "                           output_size=OUTPUT_SIZE):\n",
    "    \"\"\"\n",
    "    Creates frames from each video file present for each category.\n",
    "\n",
    "    Args:\n",
    "      video_path: File path to the video.\n",
    "      n_frames: Number of frames to be created per video file.\n",
    "      output_size: Pixel size of the output frame image.\n",
    "\n",
    "    Return:\n",
    "      An NumPy array of frames with shape (n_frames, height, width, channels).\n",
    "    \"\"\"\n",
    "    # Read each video frame by frame\n",
    "\n",
    "    result = []\n",
    "    src = cv2.VideoCapture(str(video_path))\n",
    "\n",
    "    # Find CSV file based on video name\n",
    "\n",
    "    video_name = utils.remove_extension(Path(video_path).name)\n",
    "    csv_regex = f'{video_name}.csv'\n",
    "    path_gen = Path('..', const.updated_landmarks_path).glob(csv_regex)\n",
    "\n",
    "    ret_list = list(path_gen)\n",
    "\n",
    "    try:\n",
    "        video_csv = ret_list.pop(0)\n",
    "    except IndexError:\n",
    "        print(f'ERROR: Skipping video {full_path}: no ({csv_regex}) csv file')\n",
    "        return\n",
    "\n",
    "\n",
    "    data = pd.read_csv(video_csv)\n",
    "\n",
    "\n",
    "    video_length = min(src.get(cv2.CAP_PROP_FRAME_COUNT), n_frames)\n",
    "\n",
    "\n",
    "    # start = 0\n",
    "\n",
    "    frame_number = 1\n",
    "\n",
    "    while (frame_number <= video_length):\n",
    "        ret, frame = src.read()\n",
    "        if ret:\n",
    "            ra = calc_bounding_box(data, frame_number)\n",
    "            x, y, width, height = ra['box']\n",
    "\n",
    "            frame = frame[y:y + height, x:x + width, :]\n",
    "            frame = format_frames(frame, output_size)\n",
    "            result.append(frame)\n",
    "        else:\n",
    "            # result.append(np.zeros_like(result[0]))\n",
    "            break\n",
    "        frame_number += 1\n",
    "\n",
    "    src.release()\n",
    "#    result = np.array(result)[..., [2, 1, 0]]  # RGB image\n",
    "    result = np.array(result)  # grayscale image\n",
    "    return result"
   ]
  },
  {
   "cell_type": "markdown",
   "id": "8c05b9b9-ff75-447d-8091-2accb988589b",
   "metadata": {
    "jp-MarkdownHeadingCollapsed": true
   },
   "source": [
    "## Flow Generation"
   ]
  },
  {
   "cell_type": "raw",
   "id": "1e7674e3-690a-40ab-b428-83d412190524",
   "metadata": {},
   "source": [
    "class FlowGenerator:\n",
    "    def __init__(self, path, n_frames=N_FRAMES, training=False):\n",
    "        \"\"\" Returns a set of frames with their associated label.\n",
    "\n",
    "          Args:\n",
    "            path: Video file paths.\n",
    "            n_frames: Number of frames.\n",
    "            training: Boolean to determine if training dataset is being created\n",
    "        \"\"\"\n",
    "\n",
    "        self.path = Path(path)\n",
    "        self.n_frames = n_frames\n",
    "        self.training = training\n",
    "        self.class_names = sorted(\n",
    "            set(p.name for p in self.path.iterdir() if p.is_dir())\n",
    "        )\n",
    "        self.class_ids_for_name = dict(\n",
    "            (name, idx) for idx, name in enumerate(self.class_names)\n",
    "        )\n",
    "\n",
    "    def get_files_and_class_names(self):\n",
    "        video_paths = list(self.path.glob('*/*.mp4'))\n",
    "        classes = [p.parent.name for p in video_paths]\n",
    "        return video_paths, classes\n",
    "\n",
    "    def __call__(self):\n",
    "        video_paths, classes = self.get_files_and_class_names()\n",
    "\n",
    "        pairs = list(zip(video_paths, classes))\n",
    "\n",
    "        if self.training:\n",
    "            # np.random.seed(42)\n",
    "            Random(SEED).shuffle(pairs)\n",
    "\n",
    "        for path, name in pairs:\n",
    "            video_frames = frames_from_video_file(path, self.n_frames,\n",
    "                                                  output_size=OUTPUT_SIZE)\n",
    "            label = self.class_ids_for_name[name]  # Encode labels\n",
    "            yield video_frames, label"
   ]
  }
 ],
 "metadata": {
  "kernelspec": {
   "display_name": "Python 3 (ipykernel)",
   "language": "python",
   "name": "python3"
  },
  "language_info": {
   "codemirror_mode": {
    "name": "ipython",
    "version": 3
   },
   "file_extension": ".py",
   "mimetype": "text/x-python",
   "name": "python",
   "nbconvert_exporter": "python",
   "pygments_lexer": "ipython3",
   "version": "3.10.10"
  }
 },
 "nbformat": 4,
 "nbformat_minor": 5
}
