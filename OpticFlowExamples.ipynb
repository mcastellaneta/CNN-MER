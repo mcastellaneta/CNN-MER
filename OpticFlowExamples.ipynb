{
 "cells": [
  {
   "cell_type": "markdown",
   "id": "dff304fd-fb5d-442f-ad54-aae38cac40f3",
   "metadata": {
    "tags": []
   },
   "source": [
    "# Optical Flow"
   ]
  },
  {
   "cell_type": "markdown",
   "id": "03c675a2-fb90-40a1-96a4-7f8effe557f6",
   "metadata": {
    "tags": []
   },
   "source": [
    "## Sparse (Lucas Kanade) \n",
    "https://pysource.com/2018/05/14/optical-flow-with-lucas-kanade-method-opencv-3-4-with-python-3-tutorial-31/"
   ]
  },
  {
   "cell_type": "code",
   "execution_count": 1,
   "id": "7fe4ce46-7814-4317-85f8-363129d7470e",
   "metadata": {
    "execution": {
     "iopub.execute_input": "2024-06-23T06:35:33.239326Z",
     "iopub.status.busy": "2024-06-23T06:35:33.239326Z",
     "iopub.status.idle": "2024-06-23T06:35:37.261660Z",
     "shell.execute_reply": "2024-06-23T06:35:37.261660Z",
     "shell.execute_reply.started": "2024-06-23T06:35:33.239326Z"
    }
   },
   "outputs": [],
   "source": [
    "import cv2\n",
    "import numpy as np\n",
    "import utils_flow as ut_fl\n",
    "from pathlib import Path"
   ]
  },
  {
   "cell_type": "code",
   "execution_count": 2,
   "id": "c723f1fc-1951-4ffc-a073-77b8209ed32b",
   "metadata": {
    "execution": {
     "iopub.execute_input": "2024-06-23T06:35:47.080279Z",
     "iopub.status.busy": "2024-06-23T06:35:47.079287Z",
     "iopub.status.idle": "2024-06-23T06:37:19.115273Z",
     "shell.execute_reply": "2024-06-23T06:37:19.113269Z",
     "shell.execute_reply.started": "2024-06-23T06:35:47.080279Z"
    }
   },
   "outputs": [],
   "source": [
    "camera = cv2.VideoCapture(0)\n",
    "\n",
    "_, frame = camera.read()\n",
    "old_gray = cv2.cvtColor(frame, cv2.COLOR_BGR2GRAY)\n",
    "\n",
    "# Lucas kanade params\n",
    "lk_params = dict(\n",
    "    winSize=(10, 10),\n",
    "    maxLevel=10,\n",
    "    criteria=(cv2.TERM_CRITERIA_EPS | cv2.TERM_CRITERIA_COUNT, 10, 0.03)\n",
    ")\n",
    "\n",
    "\n",
    "def select_point(event, x, y, flags, params):\n",
    "    global point, point_selected, old_points\n",
    "\n",
    "    if (event == cv2.EVENT_LBUTTONDOWN):\n",
    "        point = (x, y)\n",
    "        point_selected = True\n",
    "        old_points = np.array([[x, y]], dtype=np.float32)\n",
    "\n",
    "cv2.namedWindow(\"Frame\")\n",
    "cv2.setMouseCallback(\"Frame\", select_point)\n",
    "\n",
    "point_selected = False\n",
    "point = ()\n",
    "old_points = np.array([[]], dtype=np.float32)\n",
    "old_points.astype(np.float32)\n",
    "\n",
    "\n",
    "\n",
    "while True:\n",
    "    _, frame = camera.read()\n",
    "\n",
    "    gray_frame = cv2.cvtColor(frame, cv2.COLOR_BGR2GRAY)\n",
    "\n",
    "    if point_selected is True:\n",
    "        cv2.circle(frame, point, 5, (0, 0, 255), 2)\n",
    "        new_points, status, error = cv2.calcOpticalFlowPyrLK(\n",
    "            old_gray, gray_frame, old_points, None, **lk_params\n",
    "        )\n",
    "\n",
    "        old_gray = gray_frame.copy()\n",
    "        old_points = new_points\n",
    "\n",
    "        x, y = new_points.ravel().astype(np.int32)\n",
    "\n",
    "        cv2.circle(frame, (x, y), 5, (0, 255, 0), -1)\n",
    "\n",
    "    cv2.imshow(\"Frame\", frame)\n",
    "\n",
    "    key = cv2.waitKey(1)\n",
    "    if key == 27:\n",
    "        break\n",
    "\n",
    "camera.release()\n",
    "cv2.destroyAllWindows()"
   ]
  },
  {
   "cell_type": "markdown",
   "id": "bcd1327a-0ade-4c67-9cf7-d54621b756a4",
   "metadata": {
    "tags": []
   },
   "source": [
    "## Dense - Flow vector drawing for a entire video or camera"
   ]
  },
  {
   "cell_type": "markdown",
   "id": "d0b8ced2-ae4e-4fa1-8397-27dc42634940",
   "metadata": {},
   "source": [
    "Parameters for optical flow\n",
    "\n",
    "https://amroamroamro.github.io/mexopencv/matlab/cv.calcOpticalFlowFarneback.html\n"
   ]
  },
  {
   "cell_type": "markdown",
   "id": "80c1ca33-3d33-45c3-8bca-4e43d48056bf",
   "metadata": {
    "execution": {
     "iopub.execute_input": "2024-04-13T17:33:48.177691Z",
     "iopub.status.busy": "2024-04-13T17:33:48.176695Z",
     "iopub.status.idle": "2024-04-13T17:33:48.192505Z",
     "shell.execute_reply": "2024-04-13T17:33:48.191685Z",
     "shell.execute_reply.started": "2024-04-13T17:33:48.177691Z"
    }
   },
   "source": [
    "https://www.youtube.com/watch?v=WrlH5hHv0gE\n",
    "\n",
    "https://github.com/niconielsen32/ComputerVision/blob/master/opticalFlow/denseOpticalFlow.py"
   ]
  },
  {
   "cell_type": "code",
   "execution_count": 3,
   "id": "5940384e-60a0-4ffe-88ad-56308a82ccad",
   "metadata": {
    "execution": {
     "iopub.execute_input": "2024-06-23T06:38:47.720586Z",
     "iopub.status.busy": "2024-06-23T06:38:47.720586Z",
     "iopub.status.idle": "2024-06-23T06:38:47.737646Z",
     "shell.execute_reply": "2024-06-23T06:38:47.736648Z",
     "shell.execute_reply.started": "2024-06-23T06:38:47.720586Z"
    }
   },
   "outputs": [],
   "source": [
    "# Camera test, set True to use camera as source\n",
    "camera_test = False\n",
    "test_path = str(Path('OTHER/video_test.mp4'))"
   ]
  },
  {
   "cell_type": "code",
   "execution_count": 6,
   "id": "a0694042-03ee-4a13-9fc4-0ff1a14ad048",
   "metadata": {
    "execution": {
     "iopub.execute_input": "2024-06-23T06:40:28.767040Z",
     "iopub.status.busy": "2024-06-23T06:40:28.767040Z",
     "iopub.status.idle": "2024-06-23T06:40:39.462094Z",
     "shell.execute_reply": "2024-06-23T06:40:39.459093Z",
     "shell.execute_reply.started": "2024-06-23T06:40:28.767040Z"
    },
    "tags": []
   },
   "outputs": [],
   "source": [
    "optical_folder = 'OPTICAL'\n",
    "\n",
    "if camera_test:\n",
    "    video = 0\n",
    "else:\n",
    "    video = test_path\n",
    "\n",
    "vidcap = cv2.VideoCapture(video)\n",
    "\n",
    "ret, frame1 = vidcap.read()\n",
    "prvs = cv2.cvtColor(frame1, cv2.COLOR_BGR2GRAY)\n",
    "hsv = np.zeros_like(frame1)\n",
    "hsv[..., 1] = 255\n",
    "\n",
    "f_number = 1\n",
    "while (True):\n",
    "    ret, frame2 = vidcap.read()\n",
    "    if not ret:\n",
    "        print('No frames grabbed!')\n",
    "        break\n",
    "    next = cv2.cvtColor(frame2, cv2.COLOR_BGR2GRAY)\n",
    "    flow = cv2.calcOpticalFlowFarneback(\n",
    "            prev=prvs,\n",
    "            next=next,\n",
    "            flow=None,\n",
    "            pyr_scale=0.4,\n",
    "            levels=1,\n",
    "            winsize=15,\n",
    "            iterations=1,\n",
    "            poly_n=8,\n",
    "            poly_sigma=1.1,\n",
    "            flags=0\n",
    "        )\n",
    "\n",
    "    mag, ang = cv2.cartToPolar(flow[..., 0], flow[..., 1])\n",
    "    hsv[..., 0] = ang*180/np.pi/2\n",
    "    hsv[..., 2] = cv2.normalize(mag, None, 0, 255, cv2.NORM_MINMAX)\n",
    "    bgr = cv2.cvtColor(hsv, cv2.COLOR_HSV2BGR)\n",
    "\n",
    "    (h, s, v) = cv2.split(hsv)\n",
    "    bgr = cv2.cvtColor(hsv, cv2.COLOR_HSV2BGR)\n",
    "    # test converting BGR to GRAYSCALE\n",
    "    gr1 = cv2.cvtColor(bgr, cv2.COLOR_BGR2GRAY)\n",
    "    # test using value from hsv\n",
    "    gr2 = v\n",
    "\n",
    "    cv2.imshow('Vector Flow', ut_fl.draw_flow(next, flow))\n",
    "\n",
    "    # cv2.imshow('BGR Flow', bgr)\n",
    "    # cv2.imshow('GR1 BGRTOGRAY', gr1)\n",
    "    # cv2.imshow('GR2 SPLIT', gr2)\n",
    "\n",
    "    # cv2.imwrite('{}/test_{}.jpg'.format(optical_folder,f_number),bgr)\n",
    "    k = cv2.waitKey(1) & 0xff\n",
    "    if k == 27:\n",
    "        break\n",
    "\n",
    "    f_number = f_number + 1\n",
    "    prvs = next\n",
    "\n",
    "vidcap.release()\n",
    "cv2.destroyAllWindows()"
   ]
  }
 ],
 "metadata": {
  "kernelspec": {
   "display_name": "Python 3 (ipykernel)",
   "language": "python",
   "name": "python3"
  },
  "language_info": {
   "codemirror_mode": {
    "name": "ipython",
    "version": 3
   },
   "file_extension": ".py",
   "mimetype": "text/x-python",
   "name": "python",
   "nbconvert_exporter": "python",
   "pygments_lexer": "ipython3",
   "version": "3.10.10"
  }
 },
 "nbformat": 4,
 "nbformat_minor": 5
}
