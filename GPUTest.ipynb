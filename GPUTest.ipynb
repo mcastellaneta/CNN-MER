{
 "cells": [
  {
   "cell_type": "markdown",
   "id": "323ea7c3-d0ec-4937-978a-88d54371e0f0",
   "metadata": {},
   "source": [
    "# Check GPU Detection"
   ]
  },
  {
   "cell_type": "code",
   "execution_count": 1,
   "id": "76d12bb9-26ba-40f1-989f-870767ca75f5",
   "metadata": {
    "execution": {
     "iopub.execute_input": "2024-04-13T17:20:23.165115Z",
     "iopub.status.busy": "2024-04-13T17:20:23.164156Z",
     "iopub.status.idle": "2024-04-13T17:21:51.000728Z",
     "shell.execute_reply": "2024-04-13T17:21:50.999017Z",
     "shell.execute_reply.started": "2024-04-13T17:20:23.165115Z"
    }
   },
   "outputs": [],
   "source": [
    "import tensorflow as tf"
   ]
  },
  {
   "cell_type": "code",
   "execution_count": 2,
   "id": "8c297684-0a00-435a-a572-e97e7dedc8f0",
   "metadata": {
    "execution": {
     "iopub.execute_input": "2024-04-13T17:22:03.781220Z",
     "iopub.status.busy": "2024-04-13T17:22:03.781220Z",
     "iopub.status.idle": "2024-04-13T17:22:07.339613Z",
     "shell.execute_reply": "2024-04-13T17:22:07.338206Z",
     "shell.execute_reply.started": "2024-04-13T17:22:03.781220Z"
    }
   },
   "outputs": [],
   "source": [
    "gpus = tf.config.list_physical_devices('GPU')\n",
    "assert gpus"
   ]
  },
  {
   "cell_type": "code",
   "execution_count": 3,
   "id": "75ef8409-5046-44db-b683-6f2baccefda6",
   "metadata": {
    "execution": {
     "iopub.execute_input": "2024-04-13T17:22:08.263053Z",
     "iopub.status.busy": "2024-04-13T17:22:08.263053Z",
     "iopub.status.idle": "2024-04-13T17:22:08.329359Z",
     "shell.execute_reply": "2024-04-13T17:22:08.329071Z",
     "shell.execute_reply.started": "2024-04-13T17:22:08.263053Z"
    }
   },
   "outputs": [],
   "source": [
    "assert tf.test.is_built_with_cuda()"
   ]
  },
  {
   "cell_type": "code",
   "execution_count": 4,
   "id": "600aaaec-55e7-4f90-b018-f09a2eae642b",
   "metadata": {
    "execution": {
     "iopub.execute_input": "2024-04-13T17:22:10.001600Z",
     "iopub.status.busy": "2024-04-13T17:22:10.000597Z",
     "iopub.status.idle": "2024-04-13T17:22:22.183450Z",
     "shell.execute_reply": "2024-04-13T17:22:22.181861Z",
     "shell.execute_reply.started": "2024-04-13T17:22:10.001600Z"
    }
   },
   "outputs": [
    {
     "name": "stdout",
     "output_type": "stream",
     "text": [
      "Num GPUs Available:  1\n",
      "\n",
      "Name: /physical_device:GPU:0   Type: GPU\n",
      "{'device_name': 'GeForce 920MX', 'compute_capability': (5, 0)}\n",
      "{'current': 0, 'peak': 0}\n"
     ]
    }
   ],
   "source": [
    "print(f'Num GPUs Available: {len(gpus)}')\n",
    "print()\n",
    "for gpu in gpus:\n",
    "    print(\"Name:\", gpu.name, \"  Type:\", gpu.device_type)\n",
    "    print(tf.config.experimental.get_device_details(gpu))\n",
    "    print(tf.config.experimental.get_memory_info('GPU:0'))"
   ]
  },
  {
   "cell_type": "markdown",
   "id": "179c87c5-32d3-4540-8c73-e1b20fe19039",
   "metadata": {},
   "source": [
    "---"
   ]
  }
 ],
 "metadata": {
  "kernelspec": {
   "display_name": "Python 3 (ipykernel)",
   "language": "python",
   "name": "python3"
  },
  "language_info": {
   "codemirror_mode": {
    "name": "ipython",
    "version": 3
   },
   "file_extension": ".py",
   "mimetype": "text/x-python",
   "name": "python",
   "nbconvert_exporter": "python",
   "pygments_lexer": "ipython3",
   "version": "3.10.10"
  }
 },
 "nbformat": 4,
 "nbformat_minor": 5
}
