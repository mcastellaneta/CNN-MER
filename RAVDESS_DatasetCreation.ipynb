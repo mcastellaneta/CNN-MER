{
 "cells": [
  {
   "cell_type": "markdown",
   "id": "d5effc64-de18-48c4-895b-7cbb00d37011",
   "metadata": {},
   "source": [
    "Create dataset (video preprocessing, frame, optical flow, audio)"
   ]
  },
  {
   "cell_type": "markdown",
   "id": "528c836b-7a8e-4773-b6c9-8475b9d9c9ac",
   "metadata": {
    "tags": []
   },
   "source": [
    "# Importing Dependencies"
   ]
  },
  {
   "cell_type": "code",
   "execution_count": 1,
   "id": "b2e79b2a-8420-46e7-a98c-e16c7a2d683f",
   "metadata": {
    "execution": {
     "iopub.execute_input": "2024-05-10T07:16:39.907028Z",
     "iopub.status.busy": "2024-05-10T07:16:39.907028Z",
     "iopub.status.idle": "2024-05-10T07:18:43.427653Z",
     "shell.execute_reply": "2024-05-10T07:18:43.425869Z",
     "shell.execute_reply.started": "2024-05-10T07:16:39.907028Z"
    }
   },
   "outputs": [],
   "source": [
    "from pathlib import Path\n",
    "from sklearn.model_selection import train_test_split\n",
    "\n",
    "import os\n",
    "import IPython.display as ipd\n",
    "import constants as const\n",
    "import cv2\n",
    "import librosa\n",
    "import librosa.display\n",
    "import logging\n",
    "import matplotlib.pyplot as plt\n",
    "import numpy as np\n",
    "import pandas as pd\n",
    "import progressbar as pb\n",
    "import tensorflow as tf\n",
    "import utils\n",
    "import utils_flow as ut_fl\n",
    "import utils_audio as ut_au"
   ]
  },
  {
   "cell_type": "code",
   "execution_count": 2,
   "id": "7fda4532-85a0-4918-bb66-a8437435d515",
   "metadata": {
    "execution": {
     "iopub.execute_input": "2024-05-10T07:18:58.456259Z",
     "iopub.status.busy": "2024-05-10T07:18:58.454259Z",
     "iopub.status.idle": "2024-05-10T07:18:58.537713Z",
     "shell.execute_reply": "2024-05-10T07:18:58.534717Z",
     "shell.execute_reply.started": "2024-05-10T07:18:58.456259Z"
    }
   },
   "outputs": [],
   "source": [
    "# Set the seed value for experiment reproducibility.\n",
    "SEED = 42\n",
    "tf.random.set_seed(SEED)\n",
    "np.random.seed(SEED)"
   ]
  },
  {
   "cell_type": "code",
   "execution_count": 3,
   "id": "0c546d2a-0679-490b-86b3-54f93f9e64c4",
   "metadata": {
    "execution": {
     "iopub.execute_input": "2024-05-10T07:18:59.161844Z",
     "iopub.status.busy": "2024-05-10T07:18:59.160843Z",
     "iopub.status.idle": "2024-05-10T07:18:59.184843Z",
     "shell.execute_reply": "2024-05-10T07:18:59.182870Z",
     "shell.execute_reply.started": "2024-05-10T07:18:59.161844Z"
    }
   },
   "outputs": [
    {
     "name": "stdout",
     "output_type": "stream",
     "text": [
      "\n",
      "    Windows:\n",
      "        Version: 10.0 build 19045\n",
      "    Python:\n",
      "        Version: 3.10.10 | packaged by Anaconda, Inc. | (main, Mar 21 2023, 18:39:17) [MSC v.1916 64 bit (AMD64)]\n",
      "        Path: C:\\Users\\mic-c\\anaconda3\\envs\\opencv_contrib_env\\python.exe\n",
      "    \n"
     ]
    }
   ],
   "source": [
    "utils.system_info()"
   ]
  },
  {
   "cell_type": "code",
   "execution_count": 4,
   "id": "eb9ebc27-cad3-4fd2-af3f-e21874975094",
   "metadata": {
    "execution": {
     "iopub.execute_input": "2024-05-10T07:18:59.728328Z",
     "iopub.status.busy": "2024-05-10T07:18:59.727327Z",
     "iopub.status.idle": "2024-05-10T07:18:59.751327Z",
     "shell.execute_reply": "2024-05-10T07:18:59.749327Z",
     "shell.execute_reply.started": "2024-05-10T07:18:59.728328Z"
    }
   },
   "outputs": [
    {
     "name": "stdout",
     "output_type": "stream",
     "text": [
      "\n",
      "    OpenCV:\n",
      "        Version: 4.9.0\n",
      "    Tensorflow:\n",
      "        Version: 2.10.1\n",
      "    \n"
     ]
    }
   ],
   "source": [
    "utils.modules_info()"
   ]
  },
  {
   "cell_type": "code",
   "execution_count": 5,
   "id": "52d34bbb-5e5f-4f29-91cd-056fcae8a1f0",
   "metadata": {
    "execution": {
     "iopub.execute_input": "2024-05-10T07:19:01.881371Z",
     "iopub.status.busy": "2024-05-10T07:19:01.880371Z",
     "iopub.status.idle": "2024-05-10T07:19:01.989707Z",
     "shell.execute_reply": "2024-05-10T07:19:01.988705Z",
     "shell.execute_reply.started": "2024-05-10T07:19:01.881371Z"
    }
   },
   "outputs": [],
   "source": [
    "log_file = Path(const.logs_path, 'debug.log')\n",
    "logging.basicConfig(\n",
    "    format='%(asctime)s %(message)s',\n",
    "    filemode='a',\n",
    "    filename=log_file,\n",
    "    encoding='utf-8',\n",
    "    level=logging.INFO,\n",
    "    force=True\n",
    ")"
   ]
  },
  {
   "cell_type": "code",
   "execution_count": 6,
   "id": "e4fe2d03-ab52-48a7-b0c3-0ab785f29e6b",
   "metadata": {
    "execution": {
     "iopub.execute_input": "2024-05-10T07:19:08.337579Z",
     "iopub.status.busy": "2024-05-10T07:19:08.336581Z",
     "iopub.status.idle": "2024-05-10T07:19:08.346578Z",
     "shell.execute_reply": "2024-05-10T07:19:08.344581Z",
     "shell.execute_reply.started": "2024-05-10T07:19:08.337579Z"
    }
   },
   "outputs": [],
   "source": [
    "EMOTIONS_LABELS = const.EMOTIONS_LABELS\n",
    "label_names = const.EMOTIONS_LABELS_SORTED\n",
    "NUM_CLASSES = const.DATASET_NUM_CLASSES\n",
    "\n",
    "JPEG_COMPRESSION_QUALITY = 95  # def=95\n",
    "\n",
    "# Audio\n",
    "SAMPLE_RATE = const.RAVDESS_SAMPLE_RATE\n",
    "FFT_LENGTH = 255\n",
    "HOP_LENGTH = 512  # number of samples per time-step in spectrogram\n",
    "N_MELS = 64  # number of bins in spectrogram. Height of image\n",
    "FRAME_LENGTH = 255  # number of time-steps. Width of image"
   ]
  },
  {
   "cell_type": "markdown",
   "id": "b1e5d7c1-b480-4f13-9f48-db8837a9126f",
   "metadata": {
    "tags": []
   },
   "source": [
    "## Dataset Creation"
   ]
  },
  {
   "cell_type": "markdown",
   "id": "ef3f7962-10a7-40b9-bcc3-9095c84916a7",
   "metadata": {
    "jp-MarkdownHeadingCollapsed": true
   },
   "source": [
    "### Video Dataset - dataset_full.csv"
   ]
  },
  {
   "cell_type": "raw",
   "id": "2123fbb1-fe20-41ec-9063-fa915c738ca9",
   "metadata": {},
   "source": [
    "%%time \n",
    "# Dataset with all videos\n",
    "\n",
    "# Create DataFrame for Data intel\n",
    "df = pd.DataFrame(columns=['path','filename', 'actor', 'modality', 'channel', 'intensity', 'statement', 'repetition', 'emotion'])\n",
    "\n",
    "videos = []\n",
    "modality = []\n",
    "vocal_channel = []\n",
    "emotion = []\n",
    "emotional_intensity = [] \n",
    "statement = []\n",
    "repetition = []\n",
    "actor = []\n",
    "files_names = []\n",
    "\n",
    "count = 0\n",
    "\n",
    "files = Path(const.dataset_path).glob('*/*/*.mp4') # Only full-AV speech videos\n",
    "for file in files:\n",
    "    \n",
    "    parent = file.parent\n",
    "    video = file.name\n",
    "\n",
    "    split_name = utils.remove_extension(video)\n",
    "    split_var = split_name.split('-')\n",
    "\n",
    "    path = parent\n",
    "    filename = video\n",
    "    actor = int(split_var[6])\n",
    "\n",
    "    modality = int(split_var[0])\n",
    "    channel = int(split_var[1])\n",
    "    intensity = int(split_var[3])\n",
    "    statement = int(split_var[4])\n",
    "    repetition = int(split_var[5])\n",
    "    emotion = int(split_var[2])\n",
    "\n",
    "    df.loc[count] = [path, filename, actor, modality, channel, intensity, statement, repetition, emotion]\n",
    "    count += 1\n",
    "        "
   ]
  },
  {
   "cell_type": "raw",
   "id": "a3258d1a-b063-4fc3-8ec9-8cb5944a5983",
   "metadata": {
    "tags": []
   },
   "source": [
    "df.to_csv(Path(const.csv_path, 'dataset_full.csv'), index=False)"
   ]
  },
  {
   "cell_type": "markdown",
   "id": "62b3d876-98a1-43c6-8cf7-6fbd84dbb102",
   "metadata": {
    "jp-MarkdownHeadingCollapsed": true
   },
   "source": [
    "### Video Dataset - dataset.csv"
   ]
  },
  {
   "cell_type": "raw",
   "id": "e6643098-e1bf-4538-80d1-33e33886e321",
   "metadata": {},
   "source": [
    "# Project dataset to useful rows\n",
    "df = df.loc[df.modality == 1]  # only fullAV\n",
    "df = df.loc[df.channel == 1]  # only speech\n",
    "df.reset_index(drop=True, inplace=True)"
   ]
  },
  {
   "cell_type": "raw",
   "id": "34d1afd9-2615-44dc-995c-d70d82db3bd1",
   "metadata": {},
   "source": [
    "df.to_csv(Path(const.csv_path, 'dataset.csv'), index=False)"
   ]
  },
  {
   "cell_type": "markdown",
   "id": "737e0ed1-558f-4d16-9e1b-49174dcf48af",
   "metadata": {
    "jp-MarkdownHeadingCollapsed": true
   },
   "source": [
    "### Frame Dataset - dataset_extended.csv"
   ]
  },
  {
   "cell_type": "raw",
   "id": "05b5f044-877d-4a66-a4bb-3cff409c9daf",
   "metadata": {
    "execution": {
     "iopub.execute_input": "2024-04-24T16:52:25.875337Z",
     "iopub.status.busy": "2024-04-24T16:52:25.874335Z",
     "iopub.status.idle": "2024-04-24T16:52:26.175003Z",
     "shell.execute_reply": "2024-04-24T16:52:26.173478Z",
     "shell.execute_reply.started": "2024-04-24T16:52:25.875337Z"
    }
   },
   "source": [
    "df = pd.read_csv(Path(const.csv_path, 'dataset.csv'))"
   ]
  },
  {
   "cell_type": "raw",
   "id": "8805bf27-86a6-4424-b59e-c2083f96e3b9",
   "metadata": {
    "execution": {
     "iopub.execute_input": "2024-04-24T16:52:27.360851Z",
     "iopub.status.busy": "2024-04-24T16:52:27.359853Z",
     "iopub.status.idle": "2024-04-24T16:52:27.376153Z",
     "shell.execute_reply": "2024-04-24T16:52:27.374925Z",
     "shell.execute_reply.started": "2024-04-24T16:52:27.360851Z"
    }
   },
   "source": [
    "df_extended = df.copy()"
   ]
  },
  {
   "cell_type": "raw",
   "id": "009f2b2c-6f83-4265-aaa5-35f403ca2966",
   "metadata": {
    "execution": {
     "iopub.execute_input": "2024-04-24T16:54:41.713190Z",
     "iopub.status.busy": "2024-04-24T16:54:41.712189Z",
     "iopub.status.idle": "2024-04-24T16:56:50.891236Z",
     "shell.execute_reply": "2024-04-24T16:56:50.891236Z",
     "shell.execute_reply.started": "2024-04-24T16:54:41.713190Z"
    }
   },
   "source": [
    "frames = []\n",
    "df_fullnames = df_extended['path'] + '\\\\' + df_extended['filename']\n",
    "p1 = pb.Progressbar(id='p1', elements=len(df_extended))\n",
    "for title in df_fullnames:\n",
    "    p1.add_to_progress(1)\n",
    "    vidcap = cv2.VideoCapture(title)\n",
    "    frames_c = utils.get_video_frames(vidcap)\n",
    "    frames.append(frames_c - 1)\n",
    "    vidcap.release()\n",
    "p1.update_progress(len(df_extended))"
   ]
  },
  {
   "cell_type": "raw",
   "id": "8af9c671-46f9-42ae-a2e2-72bc284e63b2",
   "metadata": {
    "execution": {
     "iopub.execute_input": "2024-04-24T16:58:06.754250Z",
     "iopub.status.busy": "2024-04-24T16:58:06.754250Z",
     "iopub.status.idle": "2024-04-24T16:58:06.831937Z",
     "shell.execute_reply": "2024-04-24T16:58:06.831937Z",
     "shell.execute_reply.started": "2024-04-24T16:58:06.754250Z"
    }
   },
   "source": [
    "# insert frame column at the third column\n",
    "df_extended.insert(2, 'frames', frames)"
   ]
  },
  {
   "cell_type": "code",
   "execution_count": null,
   "id": "9954374c-fbbe-4037-b793-b387af5bc828",
   "metadata": {},
   "outputs": [],
   "source": [
    "# df_extended = df_extended.drop(columns=['frames'])"
   ]
  },
  {
   "cell_type": "raw",
   "id": "c0eca471-7cb3-49cc-bfab-df820ce6f22c",
   "metadata": {
    "execution": {
     "iopub.execute_input": "2024-04-24T16:58:09.279534Z",
     "iopub.status.busy": "2024-04-24T16:58:09.278530Z",
     "iopub.status.idle": "2024-04-24T16:58:09.848635Z",
     "shell.execute_reply": "2024-04-24T16:58:09.847630Z",
     "shell.execute_reply.started": "2024-04-24T16:58:09.279534Z"
    }
   },
   "source": [
    "df_extended.to_csv(Path(const.csv_path, 'dataset_extended.csv'), index=False)"
   ]
  },
  {
   "cell_type": "markdown",
   "id": "d64891dd-7c51-45ee-8c17-ff289fc99f9d",
   "metadata": {},
   "source": [
    "## DataFrame Loading"
   ]
  },
  {
   "cell_type": "code",
   "execution_count": 7,
   "id": "bb626b07-38b8-44ce-adf7-5a7dcd0a9944",
   "metadata": {
    "execution": {
     "iopub.execute_input": "2024-05-10T07:19:13.306429Z",
     "iopub.status.busy": "2024-05-10T07:19:13.305426Z",
     "iopub.status.idle": "2024-05-10T07:19:13.773455Z",
     "shell.execute_reply": "2024-05-10T07:19:13.772494Z",
     "shell.execute_reply.started": "2024-05-10T07:19:13.306429Z"
    }
   },
   "outputs": [],
   "source": [
    "df = pd.read_csv(Path(const.csv_path, 'dataset.csv'))"
   ]
  },
  {
   "cell_type": "code",
   "execution_count": 8,
   "id": "6ae4ab9e-a3de-42f0-8777-e0e888b574ff",
   "metadata": {
    "execution": {
     "iopub.execute_input": "2024-05-10T07:19:15.514723Z",
     "iopub.status.busy": "2024-05-10T07:19:15.513763Z",
     "iopub.status.idle": "2024-05-10T07:19:18.282611Z",
     "shell.execute_reply": "2024-05-10T07:19:18.280608Z",
     "shell.execute_reply.started": "2024-05-10T07:19:15.514723Z"
    }
   },
   "outputs": [
    {
     "data": {
      "image/png": "[encoded data removed]",
      "text/plain": [
       "<Figure size 3000x1000 with 1 Axes>"
      ]
     },
     "metadata": {},
     "output_type": "display_data"
    }
   ],
   "source": [
    "# Emotion distribution graph\n",
    "\n",
    "fig = plt.figure(figsize=(30, 10))\n",
    "\n",
    "x_mod = np.arange(1, 9)\n",
    "y_mod = [\n",
    "    len(df[df['emotion'] == EMOTIONS_LABELS]) for EMOTIONS_LABELS in x_mod\n",
    "]\n",
    "\n",
    "bar_plot = plt.bar(x_mod, y_mod)\n",
    "\n",
    "plt.title('Distribuzione emozioni', fontsize=30, pad=30)\n",
    "plt.ylabel('Numero video', fontsize=25, labelpad=20)\n",
    "plt.xlabel('Emozioni', fontsize=25, labelpad=20)\n",
    "plt.xticks(\n",
    "    np.arange(1, len(x_mod) + 1),\n",
    "    [EMOTIONS_LABELS[idx] for idx, x in enumerate(x_mod)],\n",
    "    fontsize=20\n",
    ")\n",
    "plt.yticks(fontsize=20)\n",
    "\n",
    "plt.bar_label(bar_plot, label_type='center', fontsize=25, color='white')\n",
    "\n",
    "plt.show()\n"
   ]
  },
  {
   "cell_type": "markdown",
   "id": "e3668ab8-22a6-4f6e-bec2-9d4573f44679",
   "metadata": {
    "tags": []
   },
   "source": [
    "# Frame"
   ]
  },
  {
   "cell_type": "code",
   "execution_count": 13,
   "id": "5ff850ea-ccb2-41e5-99a1-cedfdef27292",
   "metadata": {
    "execution": {
     "iopub.execute_input": "2024-05-10T07:19:55.091253Z",
     "iopub.status.busy": "2024-05-10T07:19:55.090243Z",
     "iopub.status.idle": "2024-05-10T07:19:55.113245Z",
     "shell.execute_reply": "2024-05-10T07:19:55.111289Z",
     "shell.execute_reply.started": "2024-05-10T07:19:55.091253Z"
    }
   },
   "outputs": [],
   "source": [
    "# Dimensions of generated images\n",
    "\n",
    "IMG_HEIGHT = IMG_WIDTH = const.MAX_HEIGHT"
   ]
  },
  {
   "cell_type": "code",
   "execution_count": 14,
   "id": "2107dc0a-b45c-41ee-9dd1-de53fc22a4c0",
   "metadata": {
    "execution": {
     "iopub.execute_input": "2024-05-10T07:19:55.551977Z",
     "iopub.status.busy": "2024-05-10T07:19:55.550974Z",
     "iopub.status.idle": "2024-05-10T07:19:55.565972Z",
     "shell.execute_reply": "2024-05-10T07:19:55.564973Z",
     "shell.execute_reply.started": "2024-05-10T07:19:55.551977Z"
    }
   },
   "outputs": [],
   "source": [
    "# MAX dimensions of bounding box\n",
    "\n",
    "MAX_WIDTH = MAX_HEIGHT = const.MAX_WIDTH"
   ]
  },
  {
   "cell_type": "code",
   "execution_count": 15,
   "id": "17cabeda-82b0-4749-a035-e1d130c3f9f0",
   "metadata": {
    "execution": {
     "iopub.execute_input": "2024-05-10T07:19:56.426249Z",
     "iopub.status.busy": "2024-05-10T07:19:56.426249Z",
     "iopub.status.idle": "2024-05-10T07:19:56.449252Z",
     "shell.execute_reply": "2024-05-10T07:19:56.447248Z",
     "shell.execute_reply.started": "2024-05-10T07:19:56.426249Z"
    }
   },
   "outputs": [],
   "source": [
    "# Human readable description of the considered dataset, for logging purposes\n",
    "\n",
    "df_description = ''\n",
    "df_description += 'fullAV'\n",
    "df_description += ', speech'"
   ]
  },
  {
   "cell_type": "markdown",
   "id": "685b3aa8-e4cc-497e-ad7c-8fb3a27ec268",
   "metadata": {},
   "source": [
    "### Video Dataset Refactoring"
   ]
  },
  {
   "cell_type": "markdown",
   "id": "8d81cc13-76fc-47be-9625-dca11670e2cd",
   "metadata": {},
   "source": [
    "From the RAVDESS directory structure to structure based on emotions"
   ]
  },
  {
   "cell_type": "markdown",
   "id": "e1b75651-0f34-4ba2-993f-f5b20ca7f1ac",
   "metadata": {},
   "source": [
    "### Frames Only"
   ]
  },
  {
   "cell_type": "markdown",
   "id": "4a172e2c-1869-43c6-a21e-a12043737f06",
   "metadata": {},
   "source": [
    "Si è considerato il database composto da video full-AV, e non cantati.\n",
    "I frame sono stati salvati in Generated/Frames. Alla denominazione del video\n",
    "originale, sono state aggiunte due nuove informazioni: la prima è il numero di \n",
    "frame del video, e la seconda è un flag (0/1) indicante se il frame facesse parte \n",
    "della parte centrale 'parlata' del video. Per delimitare tale parte, considerata più utile \n",
    "per il task, si è tagliata la parte iniziale e finale del video, i 2/3 di un secondo (30 fps)."
   ]
  },
  {
   "cell_type": "markdown",
   "id": "d18f143e-02d6-4f62-940d-7cae68cb66f4",
   "metadata": {
    "jp-MarkdownHeadingCollapsed": true
   },
   "source": [
    "#### Prima iterazione - OLD\n",
    "Creazione solo cartelle emozioni"
   ]
  },
  {
   "cell_type": "raw",
   "id": "c486b2ab-4c6e-444e-b330-f44ad2fa09cd",
   "metadata": {},
   "source": [
    "%%time  \n",
    "# Execution: 2023-12-10 16:36 Wall:20min 12min\n",
    "# Execution on LENOVO: 2023-12-10 16:36 Wall:20min 12min\n",
    "# Execution on F556UV: 2024-02-01 12:00 Wall:20min 12min CPU times: total: 31min 28s\n",
    "test = False  # for choosing the right saving path\n",
    "save = True  # True if images need to be saved in a folder\n",
    "view = False  # True if you want to view images while generating\n",
    "\n",
    "\n",
    "total_elements = len(df)  # total elements of sampled ds\n",
    "cycle_idx = 1  # cycle iterator\n",
    "p1 = pb.Progressbar(id='p1', elements=total_elements)\n",
    "\n",
    "logging.info('Generating Directories Structure')\n",
    "logging.info(f'Dataset: {df_description}')\n",
    "logging.info(f'Length of sample array is {len(df)} element, {sample_fraction:.1%} of {len(df)}')\n",
    "logging.info(f'Image size: {IMG_WIDTH} x {IMG_HEIGHT}')\n",
    "\n",
    "low_idx = np.rint(30 * (2 / 3))  # where 30=FPS\n",
    "\n",
    "for index, row in df.iterrows():\n",
    "\n",
    "    # Extract video name\n",
    "    path = row.path\n",
    "    filename = row.filename\n",
    "\n",
    "    # Get target class of video\n",
    "    target_class = utils.get_class(filename)\n",
    "    target_name = EMOTIONS_LABELS[int(target_class) - 1]\n",
    "\n",
    "    full_path = Path(path, filename)\n",
    "    video_name = utils.remove_extension(filename)\n",
    "\n",
    "    save_path = const.test_frames_path if (test) else const.frames_path\n",
    "\n",
    "    folder_path = Path(save_path, target_name)\n",
    "    folder_path.mkdir(parents=True, exist_ok=True)  # creates the target folder if needed (parents = True)\n",
    "\n",
    "    logging.info(f'Video {index} : {filename}')\n",
    "\n",
    "    # Find CSV file based on video name\n",
    "\n",
    "    csv_regex = f'{video_name}.csv'\n",
    "    path_gen = Path(const.updated_landmarks_path).glob(csv_regex)\n",
    "\n",
    "    ret_list = list(path_gen)\n",
    "\n",
    "    try:\n",
    "        video_csv = ret_list.pop(0)\n",
    "    except IndexError:\n",
    "        print(f'ERROR: Skipping video {full_path}: no csv file found ({csv_regex})')\n",
    "        continue\n",
    "\n",
    "\n",
    "    data = pd.read_csv(video_csv)\n",
    "\n",
    "    # AUDIO READ\n",
    "#    waveform, sample_rate = librosa.load(utils.video_to_audio_filename(full_path), sr=48000)\n",
    "\n",
    "    # Trim the silence voice\n",
    "#    y_trim, index_trim = librosa.effects.trim(waveform, top_db=30)\n",
    "\n",
    "    vidcap = cv2.VideoCapture(str(full_path))  # open video\n",
    "\n",
    "    frames = int(vidcap.get(cv2.CAP_PROP_FRAME_COUNT))\n",
    "    frames = int(frames)\n",
    "    logging.info(f'Class {target_name}, frames: {frames}')\n",
    "    fps = vidcap.get(cv2.CAP_PROP_FPS)\n",
    "\n",
    "    high_idx = frames - low_idx\n",
    "\n",
    "    trim_frame = high_idx - low_idx\n",
    "\n",
    "    seconds = frames / fps\n",
    "\n",
    "    logging.info(f'Duration: {seconds:.2f}')\n",
    "    logging.info(f'Speaking Frames: {trim_frame} ({low_idx} - {high_idx}) = {(trim_frame/frames):.2%} of {frames}')\n",
    "    logging.info('\\n')\n",
    "\n",
    "\n",
    "#    frame_number = 1\n",
    "\n",
    "    for frame_number in range(1,frames):\n",
    "\n",
    "        success, image = vidcap.read()\n",
    "\n",
    "\n",
    "#        frame_idx = frame_number - (low_idx - 1)\n",
    "        speaking_frame = frame_number >= low_idx and frame_number <= high_idx\n",
    "\n",
    "        frame_string = f'{video_name}-{frame_number:03d}'\n",
    "        speaking_string = '01' if speaking_frame else '00'\n",
    "\n",
    "        save_string = f'{frame_string}-{speaking_string}.jpg'\n",
    "        ra = calc_bounding_box(data, frame_number)\n",
    "\n",
    "        x, y, width, height = ra['box']\n",
    "\n",
    "        face = image[y:y + height, x:x + width, :]\n",
    "        face = cv2.resize(face, dsize=(IMG_HEIGHT, IMG_WIDTH))\n",
    "\n",
    "        if (save):\n",
    "            cv2.imwrite(str(Path(folder_path, save_string)), face)\n",
    "\n",
    "        if (view):\n",
    "            cv2.imshow(\"Frame\", face)\n",
    "            key = cv2.waitKey(30)\n",
    "            if key == 27:\n",
    "                break\n",
    "\n",
    "#        frame_number += 1\n",
    "\n",
    "    # RELEASE VIDEO\n",
    "    vidcap.release()\n",
    "    cv2.destroyAllWindows()\n",
    "\n",
    "    p1.update_progress(cycle_idx)\n",
    "\n",
    "    cycle_idx += 1\n",
    "\n",
    "p1.update_progress(total_elements)"
   ]
  },
  {
   "cell_type": "markdown",
   "id": "cd53234c-d40b-45b7-94e1-10f12aaa6e6f",
   "metadata": {
    "jp-MarkdownHeadingCollapsed": true
   },
   "source": [
    "#### Seconda iterazione - OLD\n",
    "Creazione cartelle emozioni contenenti una cartella per ogni attore, da cartelle già generate"
   ]
  },
  {
   "cell_type": "raw",
   "id": "3ddad882-3a9e-44c6-9db6-62b79c3c61a0",
   "metadata": {
    "execution": {
     "iopub.execute_input": "2024-04-23T10:12:40.655756Z",
     "iopub.status.busy": "2024-04-23T10:12:40.654760Z",
     "iopub.status.idle": "2024-04-23T10:26:23.789688Z",
     "shell.execute_reply": "2024-04-23T10:26:23.788687Z",
     "shell.execute_reply.started": "2024-04-23T10:12:40.655756Z"
    }
   },
   "source": [
    "# Create empty folder for every emotion folder\n",
    "# Execution on ASUS: 2024-04-23 12:26 Time:13min 43s\n",
    "actors_labels = [f'{i:02d}' for i in range(1, 25)]\n",
    "emotions_folder = Path(const.frames_path).glob('*')\n",
    "\n",
    "for folder_label in emotions_folder:\n",
    "    for actor in actors_labels:\n",
    "        new_path = Path(folder_label, actor)\n",
    "        # print(type(folder_label), type(actor), type(new_path))\n",
    "        new_path.mkdir()\n",
    "\n",
    "\n",
    "p1 = pb.Progressbar(id='p1', elements=const.DATASET_TOTAL_ELEMENTS)\n",
    "logging.info('Generating Directories Structure')\n",
    "\n",
    "for label in label_names:\n",
    "    folder_path = Path(const.frames_path, label)\n",
    "\n",
    "    gen = folder_path.glob('*.jpg')\n",
    "    for img_path in gen:\n",
    "        logging.info(f'Moving: {str(img_path)}')\n",
    "        actor = utils.get_actor(str(img_path))\n",
    "        new_path = Path(folder_path, actor, img_path.name)\n",
    "        Path(img_path).rename(new_path)\n",
    "        p1.add_to_progress(1)"
   ]
  },
  {
   "cell_type": "markdown",
   "id": "68b759dd-cce2-4933-828b-a89361d07d1b",
   "metadata": {},
   "source": [
    "#### Generazione corretta\n",
    "Creazione cartelle emozioni contenenti una cartella per ogni attore"
   ]
  },
  {
   "cell_type": "raw",
   "id": "23fdfa53-f57a-4611-adf5-6b9b324f39a4",
   "metadata": {
    "execution": {
     "iopub.execute_input": "2024-05-10T07:37:51.582451Z",
     "iopub.status.busy": "2024-05-10T07:37:51.581449Z",
     "iopub.status.idle": "2024-05-10T08:09:00.492261Z",
     "shell.execute_reply": "2024-05-10T08:09:00.491285Z",
     "shell.execute_reply.started": "2024-05-10T07:37:51.582451Z"
    },
    "jupyter": {
     "source_hidden": true
    }
   },
   "source": [
    "%%time  \n",
    "# Execution on F556UV: 2024-05-10 -- CPU times: total: 39min 32s Wall time: 31min 8s\n",
    "test = True  # for choosing the right saving path\n",
    "save = True  # True if images need to be saved in a folder\n",
    "view = False  # True if you want to view images while generating\n",
    "\n",
    "actors_labels = [f'{i:02d}' for i in range(1, 25)]\n",
    "total_elements = len(df)  # total elements of sampled ds\n",
    "\n",
    "p1 = pb.Progressbar(id='p1', elements=total_elements)\n",
    "\n",
    "logging.info('Generating Directories Structure')\n",
    "logging.info(f'Dataset: {df_description}')\n",
    "logging.info(f'Image size: {IMG_WIDTH} x {IMG_HEIGHT}')\n",
    "\n",
    "low_idx = np.rint(30 * (2 / 3))  # where 30=FPS\n",
    "\n",
    "for index, row in df.iterrows():\n",
    "    p1.add_to_progress(1)\n",
    "    \n",
    "    # Extract video name\n",
    "    path = row.path\n",
    "    filename = row.filename\n",
    "\n",
    "    # Get target class of video\n",
    "    target_class = utils.get_class(filename)\n",
    "    target_name = EMOTIONS_LABELS[int(target_class) - 1]\n",
    "    \n",
    "    \n",
    "    full_path = Path(path, filename)\n",
    "    video_name = utils.remove_extension(filename)\n",
    "    actor = utils.get_actor(video_name)\n",
    "    save_path = const.test_frames_path if (test) else const.frames_path\n",
    "\n",
    "    folder_path = Path(save_path, target_name, actor)\n",
    "    folder_path.mkdir(parents=True, exist_ok=True)  # creates the target folder if needed (parents = True)\n",
    "\n",
    "    logging.info(f'Video {index} : {filename}')\n",
    "\n",
    "    # Find CSV file based on video name\n",
    "\n",
    "    csv_regex = f'{video_name}.csv'\n",
    "    path_gen = Path(const.updated_landmarks_path).glob(csv_regex)\n",
    "\n",
    "    ret_list = list(path_gen)\n",
    "\n",
    "    try:\n",
    "        video_csv = ret_list.pop(0)\n",
    "    except IndexError:\n",
    "        print(f'ERROR: Skipping video {full_path}: no csv file found ({csv_regex})')\n",
    "        continue\n",
    "\n",
    "\n",
    "    data = pd.read_csv(video_csv)\n",
    "\n",
    "    vidcap = cv2.VideoCapture(str(full_path))  # open video\n",
    "\n",
    "    frames = int(vidcap.get(cv2.CAP_PROP_FRAME_COUNT))\n",
    "    frames = int(frames)\n",
    "    logging.info(f'Class {target_name}, frames: {frames}')\n",
    "    fps = vidcap.get(cv2.CAP_PROP_FPS)\n",
    "\n",
    "    high_idx = frames - low_idx\n",
    "\n",
    "    trim_frame = high_idx - low_idx\n",
    "\n",
    "    seconds = frames / fps\n",
    "\n",
    "    logging.info(f'Duration: {seconds:.2f}')\n",
    "    logging.info(f'Speaking Frames: {trim_frame} ({low_idx} - {high_idx}) = {(trim_frame/frames):.2%} of {frames}')\n",
    "    logging.info('\\n')\n",
    "\n",
    "    for frame_number in range(1,frames):\n",
    "\n",
    "        success, image = vidcap.read()\n",
    "\n",
    "        speaking_frame = frame_number >= low_idx and frame_number <= high_idx\n",
    "\n",
    "        frame_string = f'{video_name}-{frame_number:03d}'\n",
    "        speaking_string = '01' if speaking_frame else '00'\n",
    "\n",
    "        save_string = f'{frame_string}-{speaking_string}.jpg'\n",
    "        ra = utils.calc_bounding_box(data, frame_number)\n",
    "\n",
    "        x, y, width, height = ra['box']\n",
    "\n",
    "        face = image[y:y + height, x:x + width, :]\n",
    "        face = cv2.resize(face, dsize=(IMG_HEIGHT, IMG_WIDTH))\n",
    "\n",
    "        if (save):\n",
    "            cv2.imwrite(str(Path(folder_path, save_string)), face)\n",
    "\n",
    "        if (view):\n",
    "            cv2.imshow(\"Frame\", face)\n",
    "            key = cv2.waitKey(30)\n",
    "            if key == 27:\n",
    "                break\n",
    "\n",
    "    # RELEASE VIDEO\n",
    "    vidcap.release()\n",
    "    cv2.destroyAllWindows()\n",
    "\n",
    "    \n",
    "\n",
    "p1.update_progress(total_elements)"
   ]
  },
  {
   "cell_type": "markdown",
   "id": "915c56f0-bef4-490d-bf30-7e213ac2265f",
   "metadata": {},
   "source": [
    "### Database Sampling"
   ]
  },
  {
   "cell_type": "code",
   "execution_count": 22,
   "id": "2b213d0c-323a-49a8-a3a5-c6034bf877de",
   "metadata": {
    "execution": {
     "iopub.execute_input": "2024-04-28T10:04:31.426261Z",
     "iopub.status.busy": "2024-04-28T10:04:31.426261Z",
     "iopub.status.idle": "2024-04-28T10:04:31.440873Z",
     "shell.execute_reply": "2024-04-28T10:04:31.439224Z",
     "shell.execute_reply.started": "2024-04-28T10:04:31.426261Z"
    }
   },
   "outputs": [
    {
     "name": "stdout",
     "output_type": "stream",
     "text": [
      "Length of sample array is 1440 element,\n",
      "100.0% of 1440\n"
     ]
    }
   ],
   "source": [
    "# Sample the database\n",
    "\n",
    "sample_fraction = 1\n",
    "\n",
    "if sample_fraction < 1:\n",
    "    df_sampled, df_remaining = train_test_split(\n",
    "        df, train_size=sample_fraction, random_state=SEED, stratify=df.emotion\n",
    "    )\n",
    "else:\n",
    "    df_sampled = df\n",
    "\n",
    "print(f'''Length of sample array is {len(df_sampled)} element,\n",
    "{sample_fraction:.1%} of {len(df)}''')"
   ]
  },
  {
   "cell_type": "code",
   "execution_count": 23,
   "id": "12be96a0-bea6-431d-a3eb-642979436595",
   "metadata": {
    "execution": {
     "iopub.execute_input": "2024-04-28T10:04:32.328551Z",
     "iopub.status.busy": "2024-04-28T10:04:32.328551Z",
     "iopub.status.idle": "2024-04-28T10:04:32.874895Z",
     "shell.execute_reply": "2024-04-28T10:04:32.873452Z",
     "shell.execute_reply.started": "2024-04-28T10:04:32.328551Z"
    }
   },
   "outputs": [
    {
     "data": {
      "image/png": "[encoded data removed]",
      "text/plain": [
       "<Figure size 3000x1000 with 1 Axes>"
      ]
     },
     "metadata": {},
     "output_type": "display_data"
    }
   ],
   "source": [
    "fig = plt.figure(figsize=(30, 10))\n",
    "\n",
    "x_mod = np.arange(1, 9)\n",
    "y_mod = [\n",
    "    len(df_sampled[df_sampled['emotion'] == EMOTIONS_LABELS])\n",
    "    for EMOTIONS_LABELS in x_mod\n",
    "]\n",
    "\n",
    "bar_plot = plt.bar(x_mod, y_mod)\n",
    "plt.title('Distribuzione emozioni', fontsize=30, pad=30)\n",
    "plt.ylabel('Numero video', fontsize=25, labelpad=20)\n",
    "plt.xlabel('Emozioni', fontsize=25, labelpad=20)\n",
    "plt.xticks(\n",
    "    np.arange(1, len(x_mod) + 1),\n",
    "    [EMOTIONS_LABELS[idx] for idx, x in enumerate(x_mod)],\n",
    "    fontsize=20\n",
    ")\n",
    "plt.yticks(fontsize=20)\n",
    "\n",
    "plt.bar_label(bar_plot, label_type='center', fontsize=25, color='white')\n",
    "plt.show()"
   ]
  },
  {
   "cell_type": "markdown",
   "id": "a305c198-f818-469d-b727-a28ee120ad5d",
   "metadata": {
    "tags": []
   },
   "source": [
    "### Dataset with only relevant facial tracking info"
   ]
  },
  {
   "cell_type": "raw",
   "id": "6bf10673-a407-486f-823b-8d092fe50242",
   "metadata": {
    "jupyter": {
     "source_hidden": true
    },
    "tags": []
   },
   "source": [
    "# EXECUTED: 2023.07.13\n",
    "# CPU times: total: 1min 27s\n",
    "# Wall time: 1min 45s\n",
    "\n",
    "%%time\n",
    "c = 1\n",
    "total_elements = len(landmarks_files)\n",
    "\n",
    "for file in landmarks_files:\n",
    "    \n",
    "    video_csv = '{}{}'.format(landmarks_path, file) #build name \n",
    "    data = pd.read_csv(video_csv) # read file\n",
    "    \n",
    "    facialLandmarks = data.iloc[:,297:433] #consider all landmarks Columns 298-433 = Facial Landmarks locations in 2D (https://zenodo.org/record/3255102)\n",
    "    \n",
    "    data = data.iloc[:,:2]\n",
    "    \n",
    "    \n",
    "    #facialLandmarks_x = facialLandmarks.iloc[:,0:68] #consider all landmarks\n",
    "    facialLandmarks_x = facialLandmarks.iloc[:,17:68] #consider landmarks from 17 to 67 (exclude jaw)\n",
    "\n",
    "    #facialLandmarks_y = facialLandmarks.iloc[:,68:] #consider all landmarks\n",
    "    facialLandmarks_y = facialLandmarks.iloc[:,85:] #consider landmarks from 17 to 67 (exclude jaw)\n",
    "\n",
    "    facialLandmarks_x = facialLandmarks_x.assign(max_x = facialLandmarks_x.values.max(1)) # consider the highest value of x (most right) for every frame\n",
    "    facialLandmarks_x = facialLandmarks_x.assign(min_x = facialLandmarks_x.values.min(1)) # consider the lowest value of x (most left) for every frame\n",
    "    facialLandmarks_y = facialLandmarks_y.assign(max_y = facialLandmarks_y.values.max(1)) # consider the highest value of y (most up) for every frame\n",
    "    facialLandmarks_y = facialLandmarks_y.assign(min_y = facialLandmarks_y.values.min(1)) # consider the lowest value of y (most down) for every frame\n",
    "    \n",
    "    y_max_min = facialLandmarks_y[['max_y','min_y']]#.to_numpy() # WHY??\n",
    "    x_max_min = facialLandmarks_x[['max_x','min_x']]#.to_numpy() # WHY??\n",
    "    \n",
    "    conc_df = pd.concat([data,x_max_min,y_max_min],axis = 1)\n",
    "    conc_df.to_csv('{}{}'.format(updated_landmarks_path, file),index=False)\n",
    "    \n",
    "    update_progress(c / total_elements)\n",
    "    \n",
    "    c += 1\n",
    "    \n",
    "update_progress(1)"
   ]
  },
  {
   "cell_type": "markdown",
   "id": "f9c9bfa0-6e12-4b8b-bab0-abed8913020b",
   "metadata": {},
   "source": [
    "### Dataset with lower/upper bound of speaking part - useful_frames.csv"
   ]
  },
  {
   "cell_type": "raw",
   "id": "8953ba00-0bda-444b-8fed-f41a8c573a0b",
   "metadata": {
    "jupyter": {
     "source_hidden": true
    }
   },
   "source": [
    "#Executed on 2023.09.29 \n",
    "#CPU times: total: 12.6 s\n",
    "#Wall time: 25.1 s\n",
    "\n",
    "\n",
    "%%time\n",
    "\n",
    "import csv\n",
    "\n",
    "csv_file = '{}{}'.format(csv_path,'useful_frames.csv')\n",
    "\n",
    "with open(csv_file, 'w', newline='') as csvfile:\n",
    "    csv_writer = csv.writer(csvfile, delimiter=',')\n",
    "    csv_writer.writerow(['path','low_idx','high_idx'])\n",
    "    \n",
    "\n",
    "    total_elements = len(df)\n",
    "    cycle_idx = 1 # cycle iterator\n",
    "    \n",
    "    \n",
    "    logging.info('Generating Speaking Part Lower and Upper Bound Dataset')\n",
    "    \n",
    "    for index, row in df.iterrows():\n",
    "         \n",
    "        # Extract video name\n",
    "        path = row.path\n",
    "        filename = row.filename\n",
    "        \n",
    "        full_path = path + filename\n",
    "        video_name = remove_extension(filename)\n",
    "        \n",
    "        \n",
    "        logging.info('Video {} : {}'.format(index, filename))\n",
    "        \n",
    "        \n",
    "        # Find CSV file based on video name\n",
    "        \n",
    "        landmark_index = landmarks_files.index(video_name + '.csv') #find index in csv file list\n",
    "        video_csv = '{}{}'.format(updated_landmarks_path, landmarks_files[landmark_index]) #build name \n",
    "        \n",
    "        data = pd.read_csv(video_csv) # read file\n",
    "        \n",
    "        \n",
    "        # AUDIO READ\n",
    "        waveform, sample_rate = librosa.load(video_to_audio_filename(full_path), sr=48000) \n",
    "    \n",
    "        # Trim the silence voice\n",
    "        y_trim , index_trim = librosa.effects.trim(waveform, top_db=30)\n",
    "       \n",
    "        low_idx = index_to_frame(index_trim[0], frame_rate=29.97)\n",
    "        high_idx = index_to_frame(index_trim[1], frame_rate=29.97)\n",
    "    \n",
    "\n",
    "    \n",
    "        csv_writer.writerow([full_path,low_idx,high_idx])\n",
    "        \n",
    "        update_progress(cycle_idx / total_elements)\n",
    "        \n",
    "        cycle_idx += 1\n",
    "        \n",
    "    update_progress(1)"
   ]
  },
  {
   "cell_type": "markdown",
   "id": "cc4b3723-f514-42cc-80bc-18798af6173c",
   "metadata": {},
   "source": [
    "## Generation of images"
   ]
  },
  {
   "cell_type": "code",
   "execution_count": 39,
   "id": "423bd930-3e71-43db-9523-7a85b81e0652",
   "metadata": {
    "execution": {
     "iopub.execute_input": "2024-04-16T09:58:45.276836Z",
     "iopub.status.busy": "2024-04-16T09:58:45.276836Z",
     "iopub.status.idle": "2024-04-16T09:58:45.297835Z",
     "shell.execute_reply": "2024-04-16T09:58:45.296863Z",
     "shell.execute_reply.started": "2024-04-16T09:58:45.276836Z"
    }
   },
   "outputs": [
    {
     "data": {
      "text/html": [
       "<video src=\"Datasets\\RAVDESS\\Video_Speech_Actor_21\\Actor_21\\01-01-01-01-01-01-21.mp4\" controls  width=\"300\" >\n",
       "      Your browser does not support the <code>video</code> element.\n",
       "    </video>"
      ],
      "text/plain": [
       "<IPython.core.display.Video object>"
      ]
     },
     "execution_count": 39,
     "metadata": {},
     "output_type": "execute_result"
    }
   ],
   "source": [
    "# Test Video\n",
    "video = df_sampled.iloc[2]\n",
    "ipd.Video(filename=str(Path(video.path, video.filename)), width=300)"
   ]
  },
  {
   "cell_type": "markdown",
   "id": "f0739c1a-ac62-4ce3-b099-630a32017a1d",
   "metadata": {},
   "source": [
    "-----------------------------------"
   ]
  },
  {
   "cell_type": "markdown",
   "id": "55489b9a-b6ed-418c-978e-7bc290bd2d05",
   "metadata": {},
   "source": [
    "### Frames and optic flow"
   ]
  },
  {
   "cell_type": "code",
   "execution_count": 24,
   "id": "d22dba65-fd84-4958-bc67-d16b07cff06c",
   "metadata": {
    "execution": {
     "iopub.execute_input": "2024-04-28T10:04:37.266847Z",
     "iopub.status.busy": "2024-04-28T10:04:37.265847Z",
     "iopub.status.idle": "2024-04-28T10:04:37.278151Z",
     "shell.execute_reply": "2024-04-28T10:04:37.276937Z",
     "shell.execute_reply.started": "2024-04-28T10:04:37.266847Z"
    }
   },
   "outputs": [],
   "source": [
    "# Farneback\n",
    "p_0 = {\n",
    "    'WINSIZE': 7,\n",
    "    'PYR_SCALE': 0.8,\n",
    "    'POLY_SIGMA': 1.7,\n",
    "    'POLY_N': 30,\n",
    "    'LEVELS': 30,\n",
    "    'ITERATIONS': 3,\n",
    "    'FLAGS': 0\n",
    "}"
   ]
  },
  {
   "cell_type": "code",
   "execution_count": 25,
   "id": "44c39419-cad4-4271-9bbd-3737b3a28ee1",
   "metadata": {
    "execution": {
     "iopub.execute_input": "2024-04-28T10:04:37.629056Z",
     "iopub.status.busy": "2024-04-28T10:04:37.627058Z",
     "iopub.status.idle": "2024-04-28T10:04:37.647065Z",
     "shell.execute_reply": "2024-04-28T10:04:37.646054Z",
     "shell.execute_reply.started": "2024-04-28T10:04:37.629056Z"
    }
   },
   "outputs": [],
   "source": [
    "# TVL1\n",
    "p_1 = {\n",
    "    'warps': 2,\n",
    "    'useInitialFlow': False,\n",
    "    'theta': 0.3,\n",
    "    'tau': 0.25,\n",
    "    'scaleStep': 0.8,\n",
    "    'outerIterations': 3,\n",
    "    'nscales': 3,\n",
    "    'medianFiltering': 5,\n",
    "    'lambda_': 0.15,\n",
    "    'innerIterations': 3,\n",
    "    'gamma': 0.0,\n",
    "    'epsilon': 0.01\n",
    "}"
   ]
  },
  {
   "cell_type": "code",
   "execution_count": 26,
   "id": "548d1c2a-5376-462d-8f11-fe1b9ca283e0",
   "metadata": {
    "execution": {
     "iopub.execute_input": "2024-04-28T10:04:39.486388Z",
     "iopub.status.busy": "2024-04-28T10:04:39.485407Z",
     "iopub.status.idle": "2024-04-28T10:04:39.495621Z",
     "shell.execute_reply": "2024-04-28T10:04:39.494618Z",
     "shell.execute_reply.started": "2024-04-28T10:04:39.486388Z"
    }
   },
   "outputs": [],
   "source": [
    "# PYFLOW\n",
    "p_2 = {\n",
    "    'pyflow_alpha': 0.012,\n",
    "    'pyflow_ratio': 0.75,\n",
    "    'pyflow_minWidth': 20,\n",
    "    'pyflow_nOuterFPIterations': 7,\n",
    "    'pyflow_nInnerFPIterations': 1,\n",
    "    'pyflow_nSORIterations': 1,\n",
    "    'pyflow_colType': 1\n",
    "}"
   ]
  },
  {
   "cell_type": "code",
   "execution_count": 29,
   "id": "ccb7c38b-7d8e-4084-b187-4f1868bd2af6",
   "metadata": {
    "execution": {
     "iopub.execute_input": "2024-04-28T10:07:40.326505Z",
     "iopub.status.busy": "2024-04-28T10:07:40.326505Z",
     "iopub.status.idle": "2024-04-28T10:07:40.359856Z",
     "shell.execute_reply": "2024-04-28T10:07:40.357680Z",
     "shell.execute_reply.started": "2024-04-28T10:07:40.326505Z"
    }
   },
   "outputs": [],
   "source": [
    "params_ar = [p_0, p_1, p_2]\n",
    "funct_ar = [ut_fl.calc_flow_farneback, ut_fl.calc_flow_TVL1, ut_fl.calc_flow_pyflow]\n",
    "funct_names_ar = ['Farneback', 'TVL1', 'Pyflow']"
   ]
  },
  {
   "cell_type": "raw",
   "id": "3409b2a8-77cd-44cc-9123-fd0fbd4312ed",
   "metadata": {
    "execution": {
     "iopub.execute_input": "2024-04-28T09:59:55.470068Z",
     "iopub.status.busy": "2024-04-28T09:59:55.470068Z",
     "iopub.status.idle": "2024-04-28T09:59:55.502323Z",
     "shell.execute_reply": "2024-04-28T09:59:55.500322Z",
     "shell.execute_reply.started": "2024-04-28T09:59:55.470068Z"
    }
   },
   "source": [
    "logging.disable(logging.INFO)"
   ]
  },
  {
   "cell_type": "code",
   "execution_count": null,
   "id": "07280384-895b-41cd-aba0-cd5a5aa9de46",
   "metadata": {
    "execution": {
     "iopub.execute_input": "2024-04-28T10:16:39.038368Z",
     "iopub.status.busy": "2024-04-28T10:16:39.038368Z"
    }
   },
   "outputs": [
    {
     "data": {
      "text/plain": [
       "'Progress: [--------------------] 0%             1/1440'"
      ]
     },
     "metadata": {},
     "output_type": "display_data"
    },
    {
     "data": {
      "text/plain": [
       "'Progress: [########------------] 40%             42/99'"
      ]
     },
     "metadata": {},
     "output_type": "display_data"
    }
   ],
   "source": [
    "save = True\n",
    "test = True  # for choosing the right saving path\n",
    "view = False  # True if you want to view images while generating\n",
    "of_mode = 0  # 0: farneback, 1: TVL1, 2: Farneback\n",
    "\n",
    "parameters = params_ar[of_mode]\n",
    "of_function = funct_ar[of_mode]\n",
    "\n",
    "total_elements = len(df_sampled)\n",
    "\n",
    "p1 = pb.Progressbar('p1', elements=total_elements)\n",
    "p2 = pb.Progressbar('p2', 100)\n",
    "\n",
    "logging.info('Generating Frames + Flow')\n",
    "logging.info(f'Dataset: {df_description}')\n",
    "logging.info(f'Length of sample array is {len(df_sampled)} element,\\\n",
    "{sample_fraction:.1%} of {len(df)}')\n",
    "logging.info(f'Image size: {IMG_WIDTH} x {IMG_HEIGHT}')\n",
    "\n",
    "low_idx = np.rint(30 * (2 / 3))  # where 30=FPS\n",
    "\n",
    "for index, row in df_sampled[:2].iterrows():\n",
    "\n",
    "    p1.add_to_progress(1)\n",
    "\n",
    "    # Extract video name\n",
    "    path = row.path\n",
    "    filename = row.filename\n",
    "\n",
    "    target_class = utils.get_class_string(filename)\n",
    "\n",
    "    full_path = Path(path, filename)\n",
    "    video_name = utils.remove_extension(filename)\n",
    "    actor = utils.get_actor(video_name)\n",
    "    frame_save_path = const.test_frames_path if (test) else const.frames_path\n",
    "    flows_save_path = const.test_flows_path if (test) else const.flows_path\n",
    "\n",
    "    folder_frame_path = Path(frame_save_path, target_class, actor)\n",
    "    folder_flow_path = Path(flows_save_path, funct_names_ar[of_mode], target_class, actor)\n",
    "\n",
    "    if (save):\n",
    "        folder_frame_path.mkdir(parents=True, exist_ok=True)\n",
    "        folder_flow_path.mkdir(parents=True, exist_ok=True)\n",
    "\n",
    "    csv_regex = f'{video_name}.csv'\n",
    "    path_gen = Path(const.updated_landmarks_path).glob(csv_regex)\n",
    "\n",
    "    ret_list = list(path_gen)\n",
    "\n",
    "    try:\n",
    "        video_csv = ret_list.pop(0)\n",
    "    except IndexError:\n",
    "        print(f'ERROR: Skipping video {full_path}: no ({csv_regex}) file')\n",
    "        continue\n",
    "\n",
    "\n",
    "    data = pd.read_csv(video_csv)\n",
    "\n",
    "    vidcap = cv2.VideoCapture(str(full_path))\n",
    "\n",
    "    frames = utils.get_video_frames(vidcap)\n",
    "\n",
    "    p2.set_elements(frames)\n",
    "    p2.add_to_progress(1)\n",
    "\n",
    "    fps = utils.get_video_fps(vidcap)\n",
    "\n",
    "    high_idx = frames - low_idx\n",
    "\n",
    "    trim_frame = high_idx - low_idx\n",
    "\n",
    "    seconds = frames / fps\n",
    "\n",
    "    logging.info(f'Duration: {seconds:.2f}')\n",
    "    logging.info(f'Speaking Frames: {trim_frame}\\\n",
    "        ({low_idx} - {high_idx}) = {(trim_frame/frames):.2%} of {frames}')\n",
    "    logging.info('\\n')\n",
    "\n",
    "\n",
    "    frame_number = 1\n",
    "\n",
    "    speaking_frame = frame_number >= low_idx and frame_number <= high_idx\n",
    "\n",
    "    flow_string = f'{video_name}-{frame_number:03d}'\n",
    "    speaking_string = '01' if speaking_frame else '00'\n",
    "\n",
    "    save_string = f'{flow_string}-{speaking_string}.jpg'\n",
    "\n",
    "\n",
    "    ret, frame1 = vidcap.read()\n",
    "\n",
    "    ra = utils.calc_bounding_box(data, 1)\n",
    "\n",
    "    x, y, width, height = ra['box']\n",
    "\n",
    "    face = frame1[y:y + height, x:x + width, :]\n",
    "\n",
    "    face = cv2.resize(face, dsize=(MAX_WIDTH, MAX_HEIGHT))\n",
    "\n",
    "    # if (face.size and save):\n",
    "    #     face_res = cv2.resize(face, dsize=(IMG_HEIGHT, IMG_WIDTH))\n",
    "    #     cv2.imwrite(str(Path(folder_frame_path, save_string)), face_res)\n",
    "\n",
    "    prvs_rgb = face\n",
    "    prvs = cv2.cvtColor(face, cv2.COLOR_BGR2GRAY)\n",
    "\n",
    "    hsv = np.zeros_like(face)\n",
    "    hsv[..., 1] = 255\n",
    "    vidcap.set(cv2.CAP_PROP_POS_FRAMES, 1)\n",
    "\n",
    "\n",
    "    for frame_number in range(1, frames):\n",
    "\n",
    "        ret, frame2 = vidcap.read()\n",
    "\n",
    "        if not ret:\n",
    "            if (frame_number < (frames-1)):\n",
    "                print(f'''No frames grabbed!\n",
    "                video: {full_path}\n",
    "                frame: {frame_number}''')\n",
    "            break\n",
    "\n",
    "        p2.add_to_progress(1)\n",
    "        speaking_frame = frame_number >= low_idx and frame_number <= high_idx\n",
    "\n",
    "        flow_string = f'{video_name}-{frame_number:03d}'\n",
    "        speaking_string = '01' if speaking_frame else '00'\n",
    "\n",
    "        save_string = f'{flow_string}-{speaking_string}.jpg'\n",
    "        optical_string = f'flow_{int(frame_number - (low_idx)):03d}.jpg'\n",
    "        frame_string = f'frame_{int(frame_number - (low_idx - 1)):03d}.jpg'\n",
    "\n",
    "        ra = utils.calc_bounding_box(data, frame_number)\n",
    "\n",
    "        x, y, width, height = ra['box']\n",
    "\n",
    "        face = frame2[y:y + height, x:x + width, :]\n",
    "\n",
    "        face = cv2.resize(face, dsize=(MAX_WIDTH, MAX_HEIGHT))\n",
    "\n",
    "        # if (face.size and save):\n",
    "        #     face_res = cv2.resize(face, dsize=(IMG_HEIGHT, IMG_WIDTH))\n",
    "        #     cv2.imwrite(str(Path(folder_frame_path, save_string)), face_res)\n",
    "\n",
    "        next_rgb = face\n",
    "        next = cv2.cvtColor(face, cv2.COLOR_BGR2GRAY)\n",
    "\n",
    "        gr1 = of_function(prvs, next, parameters)\n",
    "        prvs = next\n",
    "        if (save):\n",
    "            gr1_res = cv2.resize(gr1, dsize=(IMG_HEIGHT, IMG_WIDTH))\n",
    "            cv2.imwrite(str(Path(folder_flow_path, save_string)), gr1_res)\n",
    "\n",
    "        if (view):\n",
    "            # cv2.imshow('Vector Flow', ut_fl.draw_flow(next, flow))\n",
    "            cv2.imshow('Video', face)\n",
    "            # cv2.imshow('BGR Flow', bgr)\n",
    "            cv2.imshow('GR1 BGRTOGRAY', gr1)\n",
    "            # cv2.imshow('GR2 SPLIT', gr2)\n",
    "\n",
    "            k = cv2.waitKey(30) & 0xff\n",
    "            if k == 27:\n",
    "                break\n",
    "\n",
    "    vidcap.release()\n",
    "    cv2.destroyAllWindows()\n",
    "\n",
    "    p2.update_progress(frames)\n",
    "\n",
    "p1.update_progress(total_elements)"
   ]
  },
  {
   "cell_type": "code",
   "execution_count": 41,
   "id": "54626464-a2f1-4307-b8ea-5d8543462c74",
   "metadata": {},
   "outputs": [],
   "source": [
    "logging.shutdown()"
   ]
  },
  {
   "cell_type": "markdown",
   "id": "dcf9e623-dec6-4ce9-a99e-16397bb7587d",
   "metadata": {},
   "source": [
    "-------------------------------------------------------------"
   ]
  }
 ],
 "metadata": {
  "kernelspec": {
   "display_name": "Python 3 (ipykernel)",
   "language": "python",
   "name": "python3"
  },
  "language_info": {
   "codemirror_mode": {
    "name": "ipython",
    "version": 3
   },
   "file_extension": ".py",
   "mimetype": "text/x-python",
   "name": "python",
   "nbconvert_exporter": "python",
   "pygments_lexer": "ipython3",
   "version": "3.10.10"
  },
  "toc-showtags": false
 },
 "nbformat": 4,
 "nbformat_minor": 5
}
